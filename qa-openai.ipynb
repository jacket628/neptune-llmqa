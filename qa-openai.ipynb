{
 "cells": [
  {
   "cell_type": "code",
   "execution_count": 1,
   "id": "f8b6f80c-2d74-4ca8-a893-4dd0e0eba719",
   "metadata": {},
   "outputs": [
    {
     "data": {
      "text/plain": [
       "{'status': 'healthy',\n",
       " 'startTime': 'Sun Dec 10 13:17:44 UTC 2023',\n",
       " 'dbEngineVersion': '1.2.1.0.R7',\n",
       " 'role': 'writer',\n",
       " 'dfeQueryEngine': 'viaQueryHint',\n",
       " 'gremlin': {'version': 'tinkerpop-3.6.2'},\n",
       " 'sparql': {'version': 'sparql-1.1'},\n",
       " 'opencypher': {'version': 'Neptune-9.0.20190305-1.0'},\n",
       " 'labMode': {'ObjectIndex': 'disabled',\n",
       "  'ReadWriteConflictDetection': 'enabled'},\n",
       " 'features': {'SlowQueryLogs': 'disabled',\n",
       "  'ResultCache': {'status': 'disabled'},\n",
       "  'IAMAuthentication': 'disabled',\n",
       "  'Streams': 'disabled',\n",
       "  'AuditLog': 'disabled'},\n",
       " 'settings': {'clusterQueryTimeoutInMs': '120000',\n",
       "  'SlowQueryLogsThreshold': '5000'}}"
      ]
     },
     "execution_count": 1,
     "metadata": {},
     "output_type": "execute_result"
    }
   ],
   "source": [
    "%status"
   ]
  },
  {
   "cell_type": "code",
   "execution_count": 2,
   "id": "9d484c2a-583f-4944-ac01-8e5a01eb218c",
   "metadata": {
    "tags": []
   },
   "outputs": [
    {
     "data": {
      "application/vnd.jupyter.widget-view+json": {
       "model_id": "67de34a328544c6fb523a4272c2f4cc4",
       "version_major": 2,
       "version_minor": 0
      },
      "text/plain": [
       "Dropdown(description='Source type:', options=('', 'samples', 'custom'), style=DescriptionStyle(description_wid…"
      ]
     },
     "metadata": {},
     "output_type": "display_data"
    },
    {
     "data": {
      "application/vnd.jupyter.widget-view+json": {
       "model_id": "6b9e82b78f924832ae9c018092c4f888",
       "version_major": 2,
       "version_minor": 0
      },
      "text/plain": [
       "Dropdown(description='Data model:', layout=Layout(display='none', visibility='hidden'), options=('', 'property…"
      ]
     },
     "metadata": {},
     "output_type": "display_data"
    },
    {
     "data": {
      "application/vnd.jupyter.widget-view+json": {
       "model_id": "333e95f48ee6450eaa453cfe4ae64c21",
       "version_major": 2,
       "version_minor": 0
      },
      "text/plain": [
       "Dropdown(description='Language:', layout=Layout(display='none', visibility='hidden'), options=('', 'opencypher…"
      ]
     },
     "metadata": {},
     "output_type": "display_data"
    },
    {
     "data": {
      "application/vnd.jupyter.widget-view+json": {
       "model_id": "e0d424304b924ef0ae668efeae6cba59",
       "version_major": 2,
       "version_minor": 0
      },
      "text/plain": [
       "Dropdown(description='Language:', layout=Layout(display='none', visibility='hidden'), options=('', 'opencypher…"
      ]
     },
     "metadata": {},
     "output_type": "display_data"
    },
    {
     "data": {
      "application/vnd.jupyter.widget-view+json": {
       "model_id": "48a952e5618e4b7a8f756f426f4863c6",
       "version_major": 2,
       "version_minor": 0
      },
      "text/plain": [
       "Dropdown(description='Data set:', layout=Layout(display='none', visibility='hidden'), options=(), style=Descri…"
      ]
     },
     "metadata": {},
     "output_type": "display_data"
    },
    {
     "data": {
      "application/vnd.jupyter.widget-view+json": {
       "model_id": "4e999cf053274165ab344cf8558d5a59",
       "version_major": 2,
       "version_minor": 0
      },
      "text/plain": [
       "Dropdown(description='Full File Query:', index=1, layout=Layout(display='none', visibility='hidden'), options=…"
      ]
     },
     "metadata": {},
     "output_type": "display_data"
    },
    {
     "data": {
      "application/vnd.jupyter.widget-view+json": {
       "model_id": "937c87a2f7ca4d83a554f59f937ef871",
       "version_major": 2,
       "version_minor": 0
      },
      "text/plain": [
       "Dropdown(description='Location:', layout=Layout(display='none', visibility='hidden'), options=('Local', 'S3'),…"
      ]
     },
     "metadata": {},
     "output_type": "display_data"
    },
    {
     "data": {
      "application/vnd.jupyter.widget-view+json": {
       "model_id": "e90a8e8463644ecf814b586adcc8dd29",
       "version_major": 2,
       "version_minor": 0
      },
      "text/plain": [
       "FileChooser(path='/home/ec2-user/SageMaker', filename='', title='', show_hidden=False, select_desc='Select', c…"
      ]
     },
     "metadata": {},
     "output_type": "display_data"
    },
    {
     "data": {
      "application/vnd.jupyter.widget-view+json": {
       "model_id": "7991e923c9894dc8aac43d5aa23ac0cf",
       "version_major": 2,
       "version_minor": 0
      },
      "text/plain": [
       "HBox(children=(Text(value='', description='Source:', placeholder='path/to/seedfiles/directory', style=Descript…"
      ]
     },
     "metadata": {},
     "output_type": "display_data"
    },
    {
     "data": {
      "application/vnd.jupyter.widget-view+json": {
       "model_id": "",
       "version_major": 2,
       "version_minor": 0
      },
      "text/plain": [
       "Button(description='Submit', layout=Layout(visibility='hidden'), style=ButtonStyle())"
      ]
     },
     "metadata": {},
     "output_type": "display_data"
    },
    {
     "data": {
      "application/vnd.jupyter.widget-view+json": {
       "model_id": "7ebbcd4d2f9448f5b37a6a1e34b97c82",
       "version_major": 2,
       "version_minor": 0
      },
      "text/plain": [
       "Output()"
      ]
     },
     "metadata": {},
     "output_type": "display_data"
    },
    {
     "data": {
      "application/vnd.jupyter.widget-view+json": {
       "model_id": "89ce3bd9dca746d9a504de780b30d390",
       "version_major": 2,
       "version_minor": 0
      },
      "text/plain": [
       "Output()"
      ]
     },
     "metadata": {},
     "output_type": "display_data"
    }
   ],
   "source": [
    "%seed"
   ]
  },
  {
   "cell_type": "code",
   "execution_count": 2,
   "id": "c133c60b-6082-43a6-8952-ed8c61449343",
   "metadata": {
    "tags": []
   },
   "outputs": [
    {
     "data": {
      "application/vnd.jupyter.widget-view+json": {
       "model_id": "54c36da8c7824149a887481c1c20f4e7",
       "version_major": 2,
       "version_minor": 0
      },
      "text/plain": [
       "Tab(children=(Output(layout=Layout(max_height='600px', max_width='940px', overflow='scroll')), Force(network=<…"
      ]
     },
     "metadata": {},
     "output_type": "display_data"
    }
   ],
   "source": [
    "%%oc -d code -g country -de dist\n",
    "MATCH p=(a:airport)-[:route]->(b:airport)<-[:contains]-(c:country)\n",
    "WHERE a.code IN ['LHR'] AND b.code IN ['AMS','JFK','NRT','PER']\n",
    "RETURN p\n",
    "LIMIT 4"
   ]
  },
  {
   "cell_type": "markdown",
   "id": "9050e3f4-84b4-45ba-90a9-ddaf7b01dff7",
   "metadata": {},
   "source": [
    "### 参考资料\n",
    "https://github.com/langchain-ai/langchain\n",
    "https://python.langchain.com/docs/use_cases/graph/neptune_cypher_qa\n"
   ]
  },
  {
   "cell_type": "code",
   "execution_count": 3,
   "id": "0b0984ce-a6fe-45d0-b3f2-6bbf807cd756",
   "metadata": {
    "tags": []
   },
   "outputs": [
    {
     "name": "stdout",
     "output_type": "stream",
     "text": [
      "Requirement already satisfied: langchain in /home/ec2-user/anaconda3/envs/JupyterSystemEnv/lib/python3.10/site-packages (0.0.348)\n",
      "Requirement already satisfied: PyYAML>=5.3 in /home/ec2-user/anaconda3/envs/JupyterSystemEnv/lib/python3.10/site-packages (from langchain) (6.0.1)\n",
      "Requirement already satisfied: SQLAlchemy<3,>=1.4 in /home/ec2-user/anaconda3/envs/JupyterSystemEnv/lib/python3.10/site-packages (from langchain) (2.0.23)\n",
      "Requirement already satisfied: aiohttp<4.0.0,>=3.8.3 in /home/ec2-user/anaconda3/envs/JupyterSystemEnv/lib/python3.10/site-packages (from langchain) (3.9.1)\n",
      "Requirement already satisfied: async-timeout<5.0.0,>=4.0.0 in /home/ec2-user/anaconda3/envs/JupyterSystemEnv/lib/python3.10/site-packages (from langchain) (4.0.3)\n",
      "Requirement already satisfied: dataclasses-json<0.7,>=0.5.7 in /home/ec2-user/anaconda3/envs/JupyterSystemEnv/lib/python3.10/site-packages (from langchain) (0.6.3)\n",
      "Requirement already satisfied: jsonpatch<2.0,>=1.33 in /home/ec2-user/anaconda3/envs/JupyterSystemEnv/lib/python3.10/site-packages (from langchain) (1.33)\n",
      "Requirement already satisfied: langchain-core<0.1,>=0.0.12 in /home/ec2-user/anaconda3/envs/JupyterSystemEnv/lib/python3.10/site-packages (from langchain) (0.0.12)\n",
      "Requirement already satisfied: langsmith<0.1.0,>=0.0.63 in /home/ec2-user/anaconda3/envs/JupyterSystemEnv/lib/python3.10/site-packages (from langchain) (0.0.69)\n",
      "Requirement already satisfied: numpy<2,>=1 in /home/ec2-user/anaconda3/envs/JupyterSystemEnv/lib/python3.10/site-packages (from langchain) (1.23.5)\n",
      "Requirement already satisfied: pydantic<3,>=1 in /home/ec2-user/anaconda3/envs/JupyterSystemEnv/lib/python3.10/site-packages (from langchain) (1.10.13)\n",
      "Requirement already satisfied: requests<3,>=2 in /home/ec2-user/anaconda3/envs/JupyterSystemEnv/lib/python3.10/site-packages (from langchain) (2.31.0)\n",
      "Requirement already satisfied: tenacity<9.0.0,>=8.1.0 in /home/ec2-user/anaconda3/envs/JupyterSystemEnv/lib/python3.10/site-packages (from langchain) (8.2.3)\n",
      "Requirement already satisfied: attrs>=17.3.0 in /home/ec2-user/anaconda3/envs/JupyterSystemEnv/lib/python3.10/site-packages (from aiohttp<4.0.0,>=3.8.3->langchain) (23.1.0)\n",
      "Requirement already satisfied: multidict<7.0,>=4.5 in /home/ec2-user/anaconda3/envs/JupyterSystemEnv/lib/python3.10/site-packages (from aiohttp<4.0.0,>=3.8.3->langchain) (6.0.4)\n",
      "Requirement already satisfied: yarl<2.0,>=1.0 in /home/ec2-user/anaconda3/envs/JupyterSystemEnv/lib/python3.10/site-packages (from aiohttp<4.0.0,>=3.8.3->langchain) (1.9.3)\n",
      "Requirement already satisfied: frozenlist>=1.1.1 in /home/ec2-user/anaconda3/envs/JupyterSystemEnv/lib/python3.10/site-packages (from aiohttp<4.0.0,>=3.8.3->langchain) (1.4.0)\n",
      "Requirement already satisfied: aiosignal>=1.1.2 in /home/ec2-user/anaconda3/envs/JupyterSystemEnv/lib/python3.10/site-packages (from aiohttp<4.0.0,>=3.8.3->langchain) (1.3.1)\n",
      "Requirement already satisfied: marshmallow<4.0.0,>=3.18.0 in /home/ec2-user/anaconda3/envs/JupyterSystemEnv/lib/python3.10/site-packages (from dataclasses-json<0.7,>=0.5.7->langchain) (3.20.1)\n",
      "Requirement already satisfied: typing-inspect<1,>=0.4.0 in /home/ec2-user/anaconda3/envs/JupyterSystemEnv/lib/python3.10/site-packages (from dataclasses-json<0.7,>=0.5.7->langchain) (0.9.0)\n",
      "Requirement already satisfied: jsonpointer>=1.9 in /home/ec2-user/anaconda3/envs/JupyterSystemEnv/lib/python3.10/site-packages (from jsonpatch<2.0,>=1.33->langchain) (2.4)\n",
      "Requirement already satisfied: anyio<5,>=3 in /home/ec2-user/anaconda3/envs/JupyterSystemEnv/lib/python3.10/site-packages (from langchain-core<0.1,>=0.0.12->langchain) (4.1.0)\n",
      "Requirement already satisfied: packaging<24.0,>=23.2 in /home/ec2-user/anaconda3/envs/JupyterSystemEnv/lib/python3.10/site-packages (from langchain-core<0.1,>=0.0.12->langchain) (23.2)\n",
      "Requirement already satisfied: typing-extensions>=4.2.0 in /home/ec2-user/anaconda3/envs/JupyterSystemEnv/lib/python3.10/site-packages (from pydantic<3,>=1->langchain) (4.8.0)\n",
      "Requirement already satisfied: charset-normalizer<4,>=2 in /home/ec2-user/anaconda3/envs/JupyterSystemEnv/lib/python3.10/site-packages (from requests<3,>=2->langchain) (2.1.1)\n",
      "Requirement already satisfied: idna<4,>=2.5 in /home/ec2-user/anaconda3/envs/JupyterSystemEnv/lib/python3.10/site-packages (from requests<3,>=2->langchain) (3.6)\n",
      "Requirement already satisfied: urllib3<3,>=1.21.1 in /home/ec2-user/anaconda3/envs/JupyterSystemEnv/lib/python3.10/site-packages (from requests<3,>=2->langchain) (1.26.18)\n",
      "Requirement already satisfied: certifi>=2017.4.17 in /home/ec2-user/anaconda3/envs/JupyterSystemEnv/lib/python3.10/site-packages (from requests<3,>=2->langchain) (2023.11.17)\n",
      "Requirement already satisfied: greenlet!=0.4.17 in /home/ec2-user/anaconda3/envs/JupyterSystemEnv/lib/python3.10/site-packages (from SQLAlchemy<3,>=1.4->langchain) (3.0.2)\n",
      "Requirement already satisfied: sniffio>=1.1 in /home/ec2-user/anaconda3/envs/JupyterSystemEnv/lib/python3.10/site-packages (from anyio<5,>=3->langchain-core<0.1,>=0.0.12->langchain) (1.3.0)\n",
      "Requirement already satisfied: exceptiongroup>=1.0.2 in /home/ec2-user/anaconda3/envs/JupyterSystemEnv/lib/python3.10/site-packages (from anyio<5,>=3->langchain-core<0.1,>=0.0.12->langchain) (1.2.0)\n",
      "Requirement already satisfied: mypy-extensions>=0.3.0 in /home/ec2-user/anaconda3/envs/JupyterSystemEnv/lib/python3.10/site-packages (from typing-inspect<1,>=0.4.0->dataclasses-json<0.7,>=0.5.7->langchain) (1.0.0)\n"
     ]
    }
   ],
   "source": [
    "!pip install langchain"
   ]
  },
  {
   "cell_type": "code",
   "execution_count": 4,
   "id": "269941ff-6e3f-40db-93e0-701684d1e9a3",
   "metadata": {
    "tags": []
   },
   "outputs": [],
   "source": [
    "from langchain.graphs import NeptuneGraph\n",
    "\n",
    "#neptune host\n",
    "host = \"neptunedbcluster-nn9wk5uwpeyr.cluster-cj0qabvcmceu.us-west-2.neptune.amazonaws.com\"\n",
    "port = 8182\n",
    "use_https = True\n",
    "\n",
    "graph = NeptuneGraph(host=host, port=port, use_https=use_https)"
   ]
  },
  {
   "cell_type": "code",
   "execution_count": 5,
   "id": "0c061858-529f-4ec5-a05d-88475ae0224f",
   "metadata": {
    "tags": []
   },
   "outputs": [
    {
     "data": {
      "text/plain": [
       "\"\\n        Node properties are the following:\\n        [{'properties': [{'property': 'names', 'type': 'LIST'}, {'property': 'names', 'type': 'STRING'}, {'property': 'primaryName', 'type': 'LIST'}, {'property': 'primaryName', 'type': 'STRING'}], 'labels': 'LOCATION'}, {'properties': [{'property': 'code', 'type': 'STRING'}, {'property': 'type', 'type': 'STRING'}, {'property': 'desc', 'type': 'STRING'}], 'labels': 'continent'}, {'properties': [{'property': 'code', 'type': 'STRING'}, {'property': 'type', 'type': 'STRING'}, {'property': 'desc', 'type': 'STRING'}], 'labels': 'country'}, {'properties': [{'property': 'names', 'type': 'STRING'}, {'property': 'primaryName', 'type': 'STRING'}, {'property': 'names', 'type': 'LIST'}], 'labels': 'SHELF_OFFERING'}, {'properties': [{'property': 'names', 'type': 'STRING'}, {'property': 'primaryName', 'type': 'LIST'}, {'property': 'primaryName', 'type': 'STRING'}, {'property': 'names', 'type': 'LIST'}], 'labels': 'PERSON'}, {'properties': [{'property': 'names', 'type': 'STRING'}, {'property': 'primaryName', 'type': 'STRING'}], 'labels': 'QUANTITY'}, {'properties': [{'property': 'names', 'type': 'LIST'}, {'property': 'names', 'type': 'STRING'}, {'property': 'primaryName', 'type': 'STRING'}], 'labels': 'FACILITY'}, {'properties': [{'property': 'address', 'type': 'STRING'}], 'labels': 'tron'}, {'properties': [{'property': 'code', 'type': 'STRING'}, {'property': 'date', 'type': 'STRING'}, {'property': 'desc', 'type': 'STRING'}, {'property': 'type', 'type': 'STRING'}, {'property': 'author', 'type': 'STRING'}], 'labels': 'version'}, {'properties': [{'property': 'names', 'type': 'STRING'}, {'property': 'primaryName', 'type': 'STRING'}], 'labels': 'STOCK_CODE'}, {'properties': [{'property': 'code', 'type': 'STRING'}, {'property': 'runways', 'type': 'INTEGER'}, {'property': 'lat', 'type': 'DOUBLE'}, {'property': 'longest', 'type': 'INTEGER'}, {'property': 'elev', 'type': 'INTEGER'}, {'property': 'region', 'type': 'STRING'}, {'property': 'desc', 'type': 'STRING'}, {'property': 'icao', 'type': 'STRING'}, {'property': 'lon', 'type': 'DOUBLE'}, {'property': 'country', 'type': 'STRING'}, {'property': 'city', 'type': 'STRING'}, {'property': 'type', 'type': 'STRING'}], 'labels': 'airport'}, {'properties': [{'property': 'names', 'type': 'LIST'}, {'property': 'primaryName', 'type': 'LIST'}, {'property': 'names', 'type': 'STRING'}, {'property': 'primaryName', 'type': 'STRING'}], 'labels': 'ORGANIZATION'}, {'properties': [{'property': 'names', 'type': 'STRING'}, {'property': 'primaryName', 'type': 'STRING'}], 'labels': 'PERSON_TITLE'}, {'properties': [{'property': 'names', 'type': 'LIST'}, {'property': 'names', 'type': 'STRING'}, {'property': 'primaryName', 'type': 'STRING'}], 'labels': 'CORPORATE_MERGER'}, {'properties': [{'property': 'names', 'type': 'LIST'}, {'property': 'names', 'type': 'STRING'}, {'property': 'primaryName', 'type': 'LIST'}, {'property': 'primaryName', 'type': 'STRING'}], 'labels': 'DATE'}, {'properties': [{'property': 'names', 'type': 'LIST'}, {'property': 'names', 'type': 'STRING'}, {'property': 'primaryName', 'type': 'STRING'}], 'labels': 'CORPORATE_ACQUISITION'}, {'properties': [{'property': 'names', 'type': 'STRING'}, {'property': 'primaryName', 'type': 'STRING'}], 'labels': 'DOCUMENT'}, {'properties': [{'property': 'names', 'type': 'STRING'}, {'property': 'primaryName', 'type': 'LIST'}, {'property': 'primaryName', 'type': 'STRING'}, {'property': 'names', 'type': 'LIST'}], 'labels': 'MONETARY_VALUE'}, {'properties': [{'property': 'names', 'type': 'STRING'}, {'property': 'primaryName', 'type': 'STRING'}, {'property': 'names', 'type': 'LIST'}], 'labels': 'INVESTMENT_GENERAL'}, {'properties': [{'property': 'names', 'type': 'STRING'}, {'property': 'primaryName', 'type': 'STRING'}, {'property': 'names', 'type': 'LIST'}], 'labels': 'EMPLOYMENT'}]\\n        Relationship properties are the following:\\n        [{'type': 'NEW_COMPANY', 'properties': []}, {'type': 'PARTICIPANT', 'properties': []}, {'type': 'transfer_tron', 'properties': []}, {'type': 'OFFEROR', 'properties': []}, {'type': 'OFFEREE', 'properties': []}, {'type': 'EMPLOYEE', 'properties': []}, {'type': 'OFFERING_DATE', 'properties': []}, {'type': 'END_DATE', 'properties': []}, {'type': 'START_DATE', 'properties': []}, {'type': 'EMPLOYEE_TITLE', 'properties': []}, {'type': 'PLACE', 'properties': []}, {'type': 'EVENT', 'properties': []}, {'type': 'DATE', 'properties': []}, {'type': 'contains', 'properties': []}, {'type': 'EMPLOYER', 'properties': []}, {'type': 'route', 'properties': [{'property': 'dist', 'type': 'INTEGER'}]}, {'type': 'AMOUNT', 'properties': []}, {'type': 'SHARE_QUANTITY', 'properties': []}, {'type': 'INVESTOR', 'properties': []}, {'type': 'INVESTEE', 'properties': []}]\\n        The relationships are the following:\\n        ['(:`CORPORATE_MERGER`)-[:`NEW_COMPANY`]->(:`ORGANIZATION`)', '(:`CORPORATE_MERGER`)-[:`PARTICIPANT`]->(:`ORGANIZATION`)', '(:`CORPORATE_MERGER`)-[:`PARTICIPANT`]->(:`STOCK_CODE`)', '(:`tron`)-[:`transfer_tron`]->(:`tron`)', '(:`SHELF_OFFERING`)-[:`OFFEROR`]->(:`ORGANIZATION`)', '(:`SHELF_OFFERING`)-[:`OFFEREE`]->(:`ORGANIZATION`)', '(:`EMPLOYMENT`)-[:`EMPLOYEE`]->(:`PERSON`)', '(:`EMPLOYMENT`)-[:`EMPLOYEE`]->(:`ORGANIZATION`)', '(:`EMPLOYMENT`)-[:`EMPLOYEE`]->(:`PERSON_TITLE`)', '(:`SHELF_OFFERING`)-[:`OFFERING_DATE`]->(:`DATE`)', '(:`EMPLOYMENT`)-[:`END_DATE`]->(:`DATE`)', '(:`EMPLOYMENT`)-[:`START_DATE`]->(:`DATE`)', '(:`EMPLOYMENT`)-[:`EMPLOYEE_TITLE`]->(:`PERSON_TITLE`)', '(:`EMPLOYMENT`)-[:`EMPLOYEE_TITLE`]->(:`PERSON`)', '(:`INVESTMENT_GENERAL`)-[:`PLACE`]->(:`LOCATION`)', '(:`INVESTMENT_GENERAL`)-[:`PLACE`]->(:`ORGANIZATION`)', '(:`INVESTMENT_GENERAL`)-[:`PLACE`]->(:`FACILITY`)', '(:`CORPORATE_ACQUISITION`)-[:`PLACE`]->(:`LOCATION`)', '(:`DOCUMENT`)-[:`EVENT`]->(:`CORPORATE_MERGER`)', '(:`DOCUMENT`)-[:`EVENT`]->(:`CORPORATE_ACQUISITION`)', '(:`DOCUMENT`)-[:`EVENT`]->(:`EMPLOYMENT`)', '(:`DOCUMENT`)-[:`EVENT`]->(:`INVESTMENT_GENERAL`)', '(:`DOCUMENT`)-[:`EVENT`]->(:`SHELF_OFFERING`)', '(:`CORPORATE_MERGER`)-[:`DATE`]->(:`DATE`)', '(:`CORPORATE_ACQUISITION`)-[:`DATE`]->(:`DATE`)', '(:`INVESTMENT_GENERAL`)-[:`DATE`]->(:`DATE`)', '(:`EMPLOYMENT`)-[:`DATE`]->(:`DATE`)', '(:`INVESTMENT_GENERAL`)-[:`DATE`]->(:`QUANTITY`)', '(:`continent`)-[:`contains`]->(:`airport`)', '(:`country`)-[:`contains`]->(:`airport`)', '(:`EMPLOYMENT`)-[:`EMPLOYER`]->(:`ORGANIZATION`)', '(:`EMPLOYMENT`)-[:`EMPLOYER`]->(:`FACILITY`)', '(:`EMPLOYMENT`)-[:`EMPLOYER`]->(:`PERSON`)', '(:`airport`)-[:`route`]->(:`airport`)', '(:`CORPORATE_ACQUISITION`)-[:`AMOUNT`]->(:`MONETARY_VALUE`)', '(:`INVESTMENT_GENERAL`)-[:`AMOUNT`]->(:`MONETARY_VALUE`)', '(:`SHELF_OFFERING`)-[:`SHARE_QUANTITY`]->(:`QUANTITY`)', '(:`CORPORATE_ACQUISITION`)-[:`INVESTOR`]->(:`ORGANIZATION`)', '(:`INVESTMENT_GENERAL`)-[:`INVESTOR`]->(:`ORGANIZATION`)', '(:`SHELF_OFFERING`)-[:`INVESTOR`]->(:`ORGANIZATION`)', '(:`INVESTMENT_GENERAL`)-[:`INVESTOR`]->(:`STOCK_CODE`)', '(:`CORPORATE_ACQUISITION`)-[:`INVESTOR`]->(:`PERSON`)', '(:`INVESTMENT_GENERAL`)-[:`INVESTOR`]->(:`PERSON`)', '(:`INVESTMENT_GENERAL`)-[:`INVESTOR`]->(:`FACILITY`)', '(:`INVESTMENT_GENERAL`)-[:`INVESTEE`]->(:`ORGANIZATION`)', '(:`CORPORATE_ACQUISITION`)-[:`INVESTEE`]->(:`ORGANIZATION`)', '(:`CORPORATE_ACQUISITION`)-[:`INVESTEE`]->(:`STOCK_CODE`)', '(:`INVESTMENT_GENERAL`)-[:`INVESTEE`]->(:`PERSON`)', '(:`INVESTMENT_GENERAL`)-[:`INVESTEE`]->(:`LOCATION`)', '(:`INVESTMENT_GENERAL`)-[:`INVESTEE`]->(:`PERSON_TITLE`)', '(:`INVESTMENT_GENERAL`)-[:`INVESTEE`]->(:`STOCK_CODE`)', '(:`INVESTMENT_GENERAL`)-[:`INVESTEE`]->(:`FACILITY`)', '(:`CORPORATE_ACQUISITION`)-[:`INVESTEE`]->(:`PERSON`)']\\n        \""
      ]
     },
     "execution_count": 5,
     "metadata": {},
     "output_type": "execute_result"
    }
   ],
   "source": [
    "graph.schema"
   ]
  },
  {
   "cell_type": "code",
   "execution_count": 6,
   "id": "891cb05a-8c8d-4dfd-8c97-aa245cbcc28e",
   "metadata": {
    "tags": []
   },
   "outputs": [],
   "source": [
    "import sys\n",
    "import os\n",
    "os.environ[\"OPENAI_API_KEY\"]=\"YOURKEY\"\n"
   ]
  },
  {
   "cell_type": "code",
   "execution_count": 7,
   "id": "30daf8b3-7f9d-4b03-bcca-c1299ef9fd42",
   "metadata": {
    "tags": []
   },
   "outputs": [
    {
     "name": "stdout",
     "output_type": "stream",
     "text": [
      "Requirement already satisfied: openai in /home/ec2-user/anaconda3/envs/JupyterSystemEnv/lib/python3.10/site-packages (1.3.8)\n",
      "Requirement already satisfied: anyio<5,>=3.5.0 in /home/ec2-user/anaconda3/envs/JupyterSystemEnv/lib/python3.10/site-packages (from openai) (4.1.0)\n",
      "Requirement already satisfied: distro<2,>=1.7.0 in /home/ec2-user/anaconda3/envs/JupyterSystemEnv/lib/python3.10/site-packages (from openai) (1.8.0)\n",
      "Requirement already satisfied: httpx<1,>=0.23.0 in /home/ec2-user/anaconda3/envs/JupyterSystemEnv/lib/python3.10/site-packages (from openai) (0.25.2)\n",
      "Requirement already satisfied: pydantic<3,>=1.9.0 in /home/ec2-user/anaconda3/envs/JupyterSystemEnv/lib/python3.10/site-packages (from openai) (1.10.13)\n",
      "Requirement already satisfied: sniffio in /home/ec2-user/anaconda3/envs/JupyterSystemEnv/lib/python3.10/site-packages (from openai) (1.3.0)\n",
      "Requirement already satisfied: tqdm>4 in /home/ec2-user/anaconda3/envs/JupyterSystemEnv/lib/python3.10/site-packages (from openai) (4.66.1)\n",
      "Requirement already satisfied: typing-extensions<5,>=4.5 in /home/ec2-user/anaconda3/envs/JupyterSystemEnv/lib/python3.10/site-packages (from openai) (4.8.0)\n",
      "Requirement already satisfied: idna>=2.8 in /home/ec2-user/anaconda3/envs/JupyterSystemEnv/lib/python3.10/site-packages (from anyio<5,>=3.5.0->openai) (3.6)\n",
      "Requirement already satisfied: exceptiongroup>=1.0.2 in /home/ec2-user/anaconda3/envs/JupyterSystemEnv/lib/python3.10/site-packages (from anyio<5,>=3.5.0->openai) (1.2.0)\n",
      "Requirement already satisfied: certifi in /home/ec2-user/anaconda3/envs/JupyterSystemEnv/lib/python3.10/site-packages (from httpx<1,>=0.23.0->openai) (2023.11.17)\n",
      "Requirement already satisfied: httpcore==1.* in /home/ec2-user/anaconda3/envs/JupyterSystemEnv/lib/python3.10/site-packages (from httpx<1,>=0.23.0->openai) (1.0.2)\n",
      "Requirement already satisfied: h11<0.15,>=0.13 in /home/ec2-user/anaconda3/envs/JupyterSystemEnv/lib/python3.10/site-packages (from httpcore==1.*->httpx<1,>=0.23.0->openai) (0.14.0)\n",
      "Note: you may need to restart the kernel to use updated packages.\n"
     ]
    }
   ],
   "source": [
    "pip install openai"
   ]
  },
  {
   "cell_type": "code",
   "execution_count": 8,
   "id": "55137f72-b2b8-471f-9720-c8800e729a63",
   "metadata": {
    "tags": []
   },
   "outputs": [],
   "source": [
    "from langchain.chains import NeptuneOpenCypherQAChain\n",
    "from langchain.chat_models import ChatOpenAI\n",
    "\n",
    "llm = ChatOpenAI(temperature=0, model=\"gpt-4\")\n",
    "chain = NeptuneOpenCypherQAChain.from_llm(llm=llm, graph=graph, verbose=True, top_K=10,\n",
    "                                         return_intermediate_steps=True, return_direct=False)\n",
    "#chain = NeptuneOpenCypherQAChain.from_llm(llm=llm, graph=graph)"
   ]
  },
  {
   "cell_type": "markdown",
   "id": "576ade7f-6391-439e-9699-f938579c3906",
   "metadata": {},
   "source": [
    "PE words:\n",
    "Generate the query in openCypher format and follow these rules:\n",
    "Use only the provided relationship types and properties in the schema.\n",
    "Do not include any explanations or apologies in your responses.\n"
   ]
  },
  {
   "cell_type": "code",
   "execution_count": 12,
   "id": "9fd8cd41-df56-4e18-adbc-40c51585dfee",
   "metadata": {},
   "outputs": [
    {
     "name": "stdout",
     "output_type": "stream",
     "text": [
      "\n",
      "\n",
      "\u001B[1m> Entering new NeptuneOpenCypherQAChain chain...\u001B[0m\n",
      "Generated Cypher:\n",
      "\u001B[32;1m\u001B[1;3mMATCH (a:airport {primaryName: \"London Heathrow\"})-[r:route]->(b:airport {primaryName: \"Perth\"}) RETURN r.dist\n",
      "\u001B[0m\n",
      "Full Context:\n",
      "\u001B[32;1m\u001B[1;3m{'ResponseMetadata': {'HTTPStatusCode': 200, 'HTTPHeaders': {'transfer-encoding': 'chunked', 'content-type': 'application/json;charset=UTF-8'}, 'RetryAttempts': 0}, 'results': []}\u001B[0m\n",
      "\n",
      "\u001B[1m> Finished chain.\u001B[0m\n"
     ]
    },
    {
     "data": {
      "text/plain": [
       "\"I'm sorry, but I don't have the information about the distance from London Heathrow to Perth nonstop.\""
      ]
     },
     "execution_count": 12,
     "metadata": {},
     "output_type": "execute_result"
    }
   ],
   "source": [
    "chain.run('''What is the dist from London Heathrow to Perth nonstop?''')"
   ]
  },
  {
   "cell_type": "code",
   "execution_count": 10,
   "id": "c2ca8769-c531-4a45-ac59-8461aa544560",
   "metadata": {},
   "outputs": [
    {
     "name": "stdout",
     "output_type": "stream",
     "text": [
      "\n",
      "\n",
      "\u001B[1m> Entering new NeptuneOpenCypherQAChain chain...\u001B[0m\n",
      "Generated Cypher:\n",
      "\u001B[32;1m\u001B[1;3mMATCH (a:airport {city: 'Austin'}), (b:airport {city: 'Sydney'})\n",
      "RETURN EXISTS((a)-[:route]->(b)) AS direct_flight_exists\n",
      "\u001B[0m\n",
      "Full Context:\n",
      "\u001B[32;1m\u001B[1;3m{'ResponseMetadata': {'HTTPStatusCode': 200, 'HTTPHeaders': {'transfer-encoding': 'chunked', 'content-type': 'application/json;charset=UTF-8'}, 'RetryAttempts': 0}, 'results': [{'direct_flight_exists': False}, {'direct_flight_exists': False}, {'direct_flight_exists': False}]}\u001B[0m\n",
      "\n",
      "\u001B[1m> Finished chain.\u001B[0m\n"
     ]
    },
    {
     "data": {
      "text/plain": [
       "'No, there are no direct flights available from Austin to Sydney.'"
      ]
     },
     "execution_count": 10,
     "metadata": {},
     "output_type": "execute_result"
    }
   ],
   "source": [
    "chain.run('''Can I fly from Austin to Sydney with no stops?''')"
   ]
  },
  {
   "cell_type": "code",
   "execution_count": 13,
   "id": "fdf53d3b-cc4b-4a7f-a406-d58a8a694d48",
   "metadata": {},
   "outputs": [
    {
     "name": "stdout",
     "output_type": "stream",
     "text": [
      "\n",
      "\n",
      "\u001B[1m> Entering new NeptuneOpenCypherQAChain chain...\u001B[0m\n",
      "Generated Cypher:\n",
      "\u001B[32;1m\u001B[1;3mMATCH (a:airport {code: 'AUS'})-[r:route]->() RETURN COUNT(r)\n",
      "\u001B[0m\n",
      "Full Context:\n",
      "\u001B[32;1m\u001B[1;3m{'ResponseMetadata': {'HTTPStatusCode': 200, 'HTTPHeaders': {'transfer-encoding': 'chunked', 'content-type': 'application/json;charset=UTF-8'}, 'RetryAttempts': 0}, 'results': [{'COUNT(r)': 93}]}\u001B[0m\n",
      "\n",
      "\u001B[1m> Finished chain.\u001B[0m\n"
     ]
    },
    {
     "data": {
      "text/plain": [
       "'The Austin (AUS) airport has 93 outgoing routes.'"
      ]
     },
     "execution_count": 13,
     "metadata": {},
     "output_type": "execute_result"
    }
   ],
   "source": [
    "chain.run('''How many outgoing routes does the Austin (AUS) airport have?''')"
   ]
  },
  {
   "cell_type": "code",
   "execution_count": 14,
   "id": "b25868ef-b560-448c-a0a0-406f4542872b",
   "metadata": {},
   "outputs": [
    {
     "name": "stdout",
     "output_type": "stream",
     "text": [
      "\n",
      "\n",
      "\u001B[1m> Entering new NeptuneOpenCypherQAChain chain...\u001B[0m\n",
      "Generated Cypher:\n",
      "\u001B[32;1m\u001B[1;3mMATCH (a:airport)-[r:route]->()\n",
      "WITH a.code AS AirportCode, COUNT(r) AS NumberOfRoutes\n",
      "RETURN AirportCode, NumberOfRoutes\n",
      "ORDER BY NumberOfRoutes DESC\n",
      "LIMIT 10\n",
      "\u001B[0m\n",
      "Full Context:\n",
      "\u001B[32;1m\u001B[1;3m{'ResponseMetadata': {'HTTPStatusCode': 200, 'HTTPHeaders': {'transfer-encoding': 'chunked', 'content-type': 'application/json;charset=UTF-8'}, 'RetryAttempts': 0}, 'results': [{'AirportCode': 'IST', 'NumberOfRoutes': 307}, {'AirportCode': 'FRA', 'NumberOfRoutes': 307}, {'AirportCode': 'CDG', 'NumberOfRoutes': 293}, {'AirportCode': 'AMS', 'NumberOfRoutes': 282}, {'AirportCode': 'MUC', 'NumberOfRoutes': 270}, {'AirportCode': 'ORD', 'NumberOfRoutes': 264}, {'AirportCode': 'DFW', 'NumberOfRoutes': 251}, {'AirportCode': 'PEK', 'NumberOfRoutes': 248}, {'AirportCode': 'DXB', 'NumberOfRoutes': 247}, {'AirportCode': 'ATL', 'NumberOfRoutes': 242}]}\u001B[0m\n",
      "\n",
      "\u001B[1m> Finished chain.\u001B[0m\n"
     ]
    },
    {
     "data": {
      "text/plain": [
       "'The top 10 airports sorted by the number of outgoing routes are:\\n\\n1. IST with 307 routes\\n2. FRA with 307 routes\\n3. CDG with 293 routes\\n4. AMS with 282 routes\\n5. MUC with 270 routes\\n6. ORD with 264 routes\\n7. DFW with 251 routes\\n8. PEK with 248 routes\\n9. DXB with 247 routes\\n10. ATL with 242 routes'"
      ]
     },
     "execution_count": 14,
     "metadata": {},
     "output_type": "execute_result"
    }
   ],
   "source": [
    "chain.run('''Find the top 10 airports sorted by the number of outgoing routes?\n",
    "Return just the airport code and the number of routes''')"
   ]
  },
  {
   "cell_type": "code",
   "execution_count": null,
   "id": "7fd54042-a743-4cae-b4f4-4e19e1542d8f",
   "metadata": {},
   "outputs": [],
   "source": []
  }
 ],
 "metadata": {
  "kernelspec": {
   "display_name": "Python 3",
   "language": "python",
   "name": "python3"
  },
  "language_info": {
   "codemirror_mode": {
    "name": "ipython",
    "version": 3
   },
   "file_extension": ".py",
   "mimetype": "text/x-python",
   "name": "python",
   "nbconvert_exporter": "python",
   "pygments_lexer": "ipython3",
   "version": "3.10.8"
  }
 },
 "nbformat": 4,
 "nbformat_minor": 5
}
