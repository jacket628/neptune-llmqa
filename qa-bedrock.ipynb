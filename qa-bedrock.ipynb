{
 "cells": [
  {
   "cell_type": "code",
   "execution_count": 1,
   "id": "f8b6f80c-2d74-4ca8-a893-4dd0e0eba719",
   "metadata": {},
   "outputs": [
    {
     "data": {
      "text/plain": [
       "{'status': 'healthy',\n",
       " 'startTime': 'Sun Dec 10 13:17:44 UTC 2023',\n",
       " 'dbEngineVersion': '1.2.1.0.R7',\n",
       " 'role': 'writer',\n",
       " 'dfeQueryEngine': 'viaQueryHint',\n",
       " 'gremlin': {'version': 'tinkerpop-3.6.2'},\n",
       " 'sparql': {'version': 'sparql-1.1'},\n",
       " 'opencypher': {'version': 'Neptune-9.0.20190305-1.0'},\n",
       " 'labMode': {'ObjectIndex': 'disabled',\n",
       "  'ReadWriteConflictDetection': 'enabled'},\n",
       " 'features': {'SlowQueryLogs': 'disabled',\n",
       "  'ResultCache': {'status': 'disabled'},\n",
       "  'IAMAuthentication': 'disabled',\n",
       "  'Streams': 'disabled',\n",
       "  'AuditLog': 'disabled'},\n",
       " 'settings': {'clusterQueryTimeoutInMs': '120000',\n",
       "  'SlowQueryLogsThreshold': '5000'}}"
      ]
     },
     "execution_count": 1,
     "metadata": {},
     "output_type": "execute_result"
    }
   ],
   "source": [
    "%status"
   ]
  },
  {
   "cell_type": "code",
   "execution_count": 2,
   "id": "9d484c2a-583f-4944-ac01-8e5a01eb218c",
   "metadata": {
    "tags": []
   },
   "outputs": [
    {
     "data": {
      "application/vnd.jupyter.widget-view+json": {
       "model_id": "dede492c60324de492186c0e95af7e5d",
       "version_major": 2,
       "version_minor": 0
      },
      "text/plain": [
       "Dropdown(description='Source type:', options=('', 'samples', 'custom'), style=DescriptionStyle(description_wid…"
      ]
     },
     "metadata": {},
     "output_type": "display_data"
    },
    {
     "data": {
      "application/vnd.jupyter.widget-view+json": {
       "model_id": "55913af95b7642f59c604d07837b6efb",
       "version_major": 2,
       "version_minor": 0
      },
      "text/plain": [
       "Dropdown(description='Data model:', layout=Layout(display='none', visibility='hidden'), options=('', 'property…"
      ]
     },
     "metadata": {},
     "output_type": "display_data"
    },
    {
     "data": {
      "application/vnd.jupyter.widget-view+json": {
       "model_id": "6db88a13264247a8a1a70b4e56e17e11",
       "version_major": 2,
       "version_minor": 0
      },
      "text/plain": [
       "Dropdown(description='Language:', layout=Layout(display='none', visibility='hidden'), options=('', 'opencypher…"
      ]
     },
     "metadata": {},
     "output_type": "display_data"
    },
    {
     "data": {
      "application/vnd.jupyter.widget-view+json": {
       "model_id": "f3be395142854636b7e7ce4a0dea5f7f",
       "version_major": 2,
       "version_minor": 0
      },
      "text/plain": [
       "Dropdown(description='Language:', layout=Layout(display='none', visibility='hidden'), options=('', 'opencypher…"
      ]
     },
     "metadata": {},
     "output_type": "display_data"
    },
    {
     "data": {
      "application/vnd.jupyter.widget-view+json": {
       "model_id": "5ce3ec32fc30442488d737fea14782e4",
       "version_major": 2,
       "version_minor": 0
      },
      "text/plain": [
       "Dropdown(description='Data set:', layout=Layout(display='none', visibility='hidden'), options=(), style=Descri…"
      ]
     },
     "metadata": {},
     "output_type": "display_data"
    },
    {
     "data": {
      "application/vnd.jupyter.widget-view+json": {
       "model_id": "dea70ca21ae440258b2f4fd7c8fc8be9",
       "version_major": 2,
       "version_minor": 0
      },
      "text/plain": [
       "Dropdown(description='Full File Query:', index=1, layout=Layout(display='none', visibility='hidden'), options=…"
      ]
     },
     "metadata": {},
     "output_type": "display_data"
    },
    {
     "data": {
      "application/vnd.jupyter.widget-view+json": {
       "model_id": "baeca6877181455fa48efdf2cb8d5e6d",
       "version_major": 2,
       "version_minor": 0
      },
      "text/plain": [
       "Dropdown(description='Location:', layout=Layout(display='none', visibility='hidden'), options=('Local', 'S3'),…"
      ]
     },
     "metadata": {},
     "output_type": "display_data"
    },
    {
     "data": {
      "application/vnd.jupyter.widget-view+json": {
       "model_id": "5e24b1fc03294e679d6d324e76b9f097",
       "version_major": 2,
       "version_minor": 0
      },
      "text/plain": [
       "FileChooser(path='/home/ec2-user/SageMaker', filename='', title='', show_hidden=False, select_desc='Select', c…"
      ]
     },
     "metadata": {},
     "output_type": "display_data"
    },
    {
     "data": {
      "application/vnd.jupyter.widget-view+json": {
       "model_id": "17abb7e6ab6d49fab41a1083fa018209",
       "version_major": 2,
       "version_minor": 0
      },
      "text/plain": [
       "HBox(children=(Text(value='', description='Source:', placeholder='path/to/seedfiles/directory', style=Descript…"
      ]
     },
     "metadata": {},
     "output_type": "display_data"
    },
    {
     "data": {
      "application/vnd.jupyter.widget-view+json": {
       "model_id": "44095c6e02aa428f819827f5f984d167",
       "version_major": 2,
       "version_minor": 0
      },
      "text/plain": [
       "Button(description='Submit', layout=Layout(visibility='hidden'), style=ButtonStyle())"
      ]
     },
     "metadata": {},
     "output_type": "display_data"
    },
    {
     "data": {
      "application/vnd.jupyter.widget-view+json": {
       "model_id": "7cfffbe1b3254fc7b8a27c354b1c9451",
       "version_major": 2,
       "version_minor": 0
      },
      "text/plain": [
       "Output()"
      ]
     },
     "metadata": {},
     "output_type": "display_data"
    },
    {
     "data": {
      "application/vnd.jupyter.widget-view+json": {
       "model_id": "11facae0a3cb46debee0b5355b84727a",
       "version_major": 2,
       "version_minor": 0
      },
      "text/plain": [
       "Output()"
      ]
     },
     "metadata": {},
     "output_type": "display_data"
    }
   ],
   "source": [
    "%seed"
   ]
  },
  {
   "cell_type": "code",
   "execution_count": 3,
   "id": "c133c60b-6082-43a6-8952-ed8c61449343",
   "metadata": {
    "tags": []
   },
   "outputs": [
    {
     "data": {
      "application/vnd.jupyter.widget-view+json": {
       "model_id": "5395533cacc843e2b5dc4c9b5e53c1c2",
       "version_major": 2,
       "version_minor": 0
      },
      "text/plain": [
       "Tab(children=(Output(layout=Layout(max_height='600px', max_width='940px', overflow='scroll')), Force(network=<…"
      ]
     },
     "metadata": {},
     "output_type": "display_data"
    }
   ],
   "source": [
    "%%oc -d code -g country -de dist\n",
    "MATCH p=(a:airport)-[:route]->(b:airport)<-[:contains]-(c:country)\n",
    "WHERE a.code IN ['LHR'] AND b.code IN ['AMS','JFK','NRT','PER']\n",
    "RETURN p\n",
    "LIMIT 4"
   ]
  },
  {
   "cell_type": "markdown",
   "id": "9050e3f4-84b4-45ba-90a9-ddaf7b01dff7",
   "metadata": {},
   "source": [
    "### 参考资料\n",
    "https://github.com/langchain-ai/langchain\n",
    "https://python.langchain.com/docs/use_cases/graph/neptune_cypher_qa\n"
   ]
  },
  {
   "cell_type": "code",
   "execution_count": 4,
   "id": "0b0984ce-a6fe-45d0-b3f2-6bbf807cd756",
   "metadata": {
    "tags": []
   },
   "outputs": [
    {
     "name": "stdout",
     "output_type": "stream",
     "text": [
      "Requirement already satisfied: langchain in /home/ec2-user/anaconda3/envs/JupyterSystemEnv/lib/python3.10/site-packages (0.0.348)\n",
      "Requirement already satisfied: PyYAML>=5.3 in /home/ec2-user/anaconda3/envs/JupyterSystemEnv/lib/python3.10/site-packages (from langchain) (6.0.1)\n",
      "Requirement already satisfied: SQLAlchemy<3,>=1.4 in /home/ec2-user/anaconda3/envs/JupyterSystemEnv/lib/python3.10/site-packages (from langchain) (2.0.23)\n",
      "Requirement already satisfied: aiohttp<4.0.0,>=3.8.3 in /home/ec2-user/anaconda3/envs/JupyterSystemEnv/lib/python3.10/site-packages (from langchain) (3.9.1)\n",
      "Requirement already satisfied: async-timeout<5.0.0,>=4.0.0 in /home/ec2-user/anaconda3/envs/JupyterSystemEnv/lib/python3.10/site-packages (from langchain) (4.0.3)\n",
      "Requirement already satisfied: dataclasses-json<0.7,>=0.5.7 in /home/ec2-user/anaconda3/envs/JupyterSystemEnv/lib/python3.10/site-packages (from langchain) (0.6.3)\n",
      "Requirement already satisfied: jsonpatch<2.0,>=1.33 in /home/ec2-user/anaconda3/envs/JupyterSystemEnv/lib/python3.10/site-packages (from langchain) (1.33)\n",
      "Requirement already satisfied: langchain-core<0.1,>=0.0.12 in /home/ec2-user/anaconda3/envs/JupyterSystemEnv/lib/python3.10/site-packages (from langchain) (0.0.12)\n",
      "Requirement already satisfied: langsmith<0.1.0,>=0.0.63 in /home/ec2-user/anaconda3/envs/JupyterSystemEnv/lib/python3.10/site-packages (from langchain) (0.0.69)\n",
      "Requirement already satisfied: numpy<2,>=1 in /home/ec2-user/anaconda3/envs/JupyterSystemEnv/lib/python3.10/site-packages (from langchain) (1.23.5)\n",
      "Requirement already satisfied: pydantic<3,>=1 in /home/ec2-user/anaconda3/envs/JupyterSystemEnv/lib/python3.10/site-packages (from langchain) (1.10.13)\n",
      "Requirement already satisfied: requests<3,>=2 in /home/ec2-user/anaconda3/envs/JupyterSystemEnv/lib/python3.10/site-packages (from langchain) (2.31.0)\n",
      "Requirement already satisfied: tenacity<9.0.0,>=8.1.0 in /home/ec2-user/anaconda3/envs/JupyterSystemEnv/lib/python3.10/site-packages (from langchain) (8.2.3)\n",
      "Requirement already satisfied: attrs>=17.3.0 in /home/ec2-user/anaconda3/envs/JupyterSystemEnv/lib/python3.10/site-packages (from aiohttp<4.0.0,>=3.8.3->langchain) (23.1.0)\n",
      "Requirement already satisfied: multidict<7.0,>=4.5 in /home/ec2-user/anaconda3/envs/JupyterSystemEnv/lib/python3.10/site-packages (from aiohttp<4.0.0,>=3.8.3->langchain) (6.0.4)\n",
      "Requirement already satisfied: yarl<2.0,>=1.0 in /home/ec2-user/anaconda3/envs/JupyterSystemEnv/lib/python3.10/site-packages (from aiohttp<4.0.0,>=3.8.3->langchain) (1.9.3)\n",
      "Requirement already satisfied: frozenlist>=1.1.1 in /home/ec2-user/anaconda3/envs/JupyterSystemEnv/lib/python3.10/site-packages (from aiohttp<4.0.0,>=3.8.3->langchain) (1.4.0)\n",
      "Requirement already satisfied: aiosignal>=1.1.2 in /home/ec2-user/anaconda3/envs/JupyterSystemEnv/lib/python3.10/site-packages (from aiohttp<4.0.0,>=3.8.3->langchain) (1.3.1)\n",
      "Requirement already satisfied: marshmallow<4.0.0,>=3.18.0 in /home/ec2-user/anaconda3/envs/JupyterSystemEnv/lib/python3.10/site-packages (from dataclasses-json<0.7,>=0.5.7->langchain) (3.20.1)\n",
      "Requirement already satisfied: typing-inspect<1,>=0.4.0 in /home/ec2-user/anaconda3/envs/JupyterSystemEnv/lib/python3.10/site-packages (from dataclasses-json<0.7,>=0.5.7->langchain) (0.9.0)\n",
      "Requirement already satisfied: jsonpointer>=1.9 in /home/ec2-user/anaconda3/envs/JupyterSystemEnv/lib/python3.10/site-packages (from jsonpatch<2.0,>=1.33->langchain) (2.4)\n",
      "Requirement already satisfied: anyio<5,>=3 in /home/ec2-user/anaconda3/envs/JupyterSystemEnv/lib/python3.10/site-packages (from langchain-core<0.1,>=0.0.12->langchain) (4.1.0)\n",
      "Requirement already satisfied: packaging<24.0,>=23.2 in /home/ec2-user/anaconda3/envs/JupyterSystemEnv/lib/python3.10/site-packages (from langchain-core<0.1,>=0.0.12->langchain) (23.2)\n",
      "Requirement already satisfied: typing-extensions>=4.2.0 in /home/ec2-user/anaconda3/envs/JupyterSystemEnv/lib/python3.10/site-packages (from pydantic<3,>=1->langchain) (4.8.0)\n",
      "Requirement already satisfied: charset-normalizer<4,>=2 in /home/ec2-user/anaconda3/envs/JupyterSystemEnv/lib/python3.10/site-packages (from requests<3,>=2->langchain) (2.1.1)\n",
      "Requirement already satisfied: idna<4,>=2.5 in /home/ec2-user/anaconda3/envs/JupyterSystemEnv/lib/python3.10/site-packages (from requests<3,>=2->langchain) (3.6)\n",
      "Requirement already satisfied: urllib3<3,>=1.21.1 in /home/ec2-user/anaconda3/envs/JupyterSystemEnv/lib/python3.10/site-packages (from requests<3,>=2->langchain) (1.26.18)\n",
      "Requirement already satisfied: certifi>=2017.4.17 in /home/ec2-user/anaconda3/envs/JupyterSystemEnv/lib/python3.10/site-packages (from requests<3,>=2->langchain) (2023.11.17)\n",
      "Requirement already satisfied: greenlet!=0.4.17 in /home/ec2-user/anaconda3/envs/JupyterSystemEnv/lib/python3.10/site-packages (from SQLAlchemy<3,>=1.4->langchain) (3.0.2)\n",
      "Requirement already satisfied: sniffio>=1.1 in /home/ec2-user/anaconda3/envs/JupyterSystemEnv/lib/python3.10/site-packages (from anyio<5,>=3->langchain-core<0.1,>=0.0.12->langchain) (1.3.0)\n",
      "Requirement already satisfied: exceptiongroup>=1.0.2 in /home/ec2-user/anaconda3/envs/JupyterSystemEnv/lib/python3.10/site-packages (from anyio<5,>=3->langchain-core<0.1,>=0.0.12->langchain) (1.2.0)\n",
      "Requirement already satisfied: mypy-extensions>=0.3.0 in /home/ec2-user/anaconda3/envs/JupyterSystemEnv/lib/python3.10/site-packages (from typing-inspect<1,>=0.4.0->dataclasses-json<0.7,>=0.5.7->langchain) (1.0.0)\n"
     ]
    }
   ],
   "source": [
    "!pip install langchain"
   ]
  },
  {
   "cell_type": "code",
   "execution_count": 5,
   "id": "269941ff-6e3f-40db-93e0-701684d1e9a3",
   "metadata": {
    "tags": []
   },
   "outputs": [],
   "source": [
    "from langchain.graphs import NeptuneGraph\n",
    "\n",
    "#neptune host\n",
    "host = \"neptunedbcluster-nn9wk5uwpeyr.cluster-cj0qabvcmceu.us-west-2.neptune.amazonaws.com\"\n",
    "port = 8182\n",
    "use_https = True\n",
    "\n",
    "graph = NeptuneGraph(host=host, port=port, use_https=use_https)"
   ]
  },
  {
   "cell_type": "code",
   "execution_count": 6,
   "id": "0c061858-529f-4ec5-a05d-88475ae0224f",
   "metadata": {
    "tags": []
   },
   "outputs": [
    {
     "data": {
      "text/plain": [
       "\"\\n        Node properties are the following:\\n        [{'properties': [{'property': 'names', 'type': 'LIST'}, {'property': 'names', 'type': 'STRING'}, {'property': 'primaryName', 'type': 'STRING'}, {'property': 'primaryName', 'type': 'LIST'}], 'labels': 'LOCATION'}, {'properties': [{'property': 'type', 'type': 'STRING'}, {'property': 'desc', 'type': 'STRING'}, {'property': 'code', 'type': 'STRING'}], 'labels': 'continent'}, {'properties': [{'property': 'type', 'type': 'STRING'}, {'property': 'desc', 'type': 'STRING'}, {'property': 'code', 'type': 'STRING'}], 'labels': 'country'}, {'properties': [{'property': 'primaryName', 'type': 'STRING'}, {'property': 'names', 'type': 'STRING'}, {'property': 'names', 'type': 'LIST'}], 'labels': 'SHELF_OFFERING'}, {'properties': [{'property': 'primaryName', 'type': 'STRING'}, {'property': 'names', 'type': 'STRING'}, {'property': 'names', 'type': 'LIST'}, {'property': 'primaryName', 'type': 'LIST'}], 'labels': 'PERSON'}, {'properties': [{'property': 'primaryName', 'type': 'STRING'}, {'property': 'names', 'type': 'STRING'}], 'labels': 'QUANTITY'}, {'properties': [{'property': 'names', 'type': 'LIST'}, {'property': 'names', 'type': 'STRING'}, {'property': 'primaryName', 'type': 'STRING'}], 'labels': 'FACILITY'}, {'properties': [{'property': 'address', 'type': 'STRING'}], 'labels': 'tron'}, {'properties': [{'property': 'desc', 'type': 'STRING'}, {'property': 'date', 'type': 'STRING'}, {'property': 'type', 'type': 'STRING'}, {'property': 'author', 'type': 'STRING'}, {'property': 'code', 'type': 'STRING'}], 'labels': 'version'}, {'properties': [{'property': 'primaryName', 'type': 'STRING'}, {'property': 'names', 'type': 'STRING'}], 'labels': 'STOCK_CODE'}, {'properties': [{'property': 'region', 'type': 'STRING'}, {'property': 'desc', 'type': 'STRING'}, {'property': 'type', 'type': 'STRING'}, {'property': 'lon', 'type': 'DOUBLE'}, {'property': 'lat', 'type': 'DOUBLE'}, {'property': 'country', 'type': 'STRING'}, {'property': 'longest', 'type': 'INTEGER'}, {'property': 'icao', 'type': 'STRING'}, {'property': 'elev', 'type': 'INTEGER'}, {'property': 'code', 'type': 'STRING'}, {'property': 'runways', 'type': 'INTEGER'}, {'property': 'city', 'type': 'STRING'}], 'labels': 'airport'}, {'properties': [{'property': 'names', 'type': 'LIST'}, {'property': 'names', 'type': 'STRING'}, {'property': 'primaryName', 'type': 'STRING'}, {'property': 'primaryName', 'type': 'LIST'}], 'labels': 'ORGANIZATION'}, {'properties': [{'property': 'primaryName', 'type': 'STRING'}, {'property': 'names', 'type': 'STRING'}], 'labels': 'PERSON_TITLE'}, {'properties': [{'property': 'names', 'type': 'LIST'}, {'property': 'names', 'type': 'STRING'}, {'property': 'primaryName', 'type': 'STRING'}], 'labels': 'CORPORATE_MERGER'}, {'properties': [{'property': 'names', 'type': 'LIST'}, {'property': 'names', 'type': 'STRING'}, {'property': 'primaryName', 'type': 'STRING'}, {'property': 'primaryName', 'type': 'LIST'}], 'labels': 'DATE'}, {'properties': [{'property': 'names', 'type': 'LIST'}, {'property': 'names', 'type': 'STRING'}, {'property': 'primaryName', 'type': 'STRING'}], 'labels': 'CORPORATE_ACQUISITION'}, {'properties': [{'property': 'primaryName', 'type': 'STRING'}, {'property': 'names', 'type': 'STRING'}], 'labels': 'DOCUMENT'}, {'properties': [{'property': 'primaryName', 'type': 'STRING'}, {'property': 'names', 'type': 'STRING'}, {'property': 'names', 'type': 'LIST'}, {'property': 'primaryName', 'type': 'LIST'}], 'labels': 'MONETARY_VALUE'}, {'properties': [{'property': 'primaryName', 'type': 'STRING'}, {'property': 'names', 'type': 'STRING'}, {'property': 'names', 'type': 'LIST'}], 'labels': 'INVESTMENT_GENERAL'}, {'properties': [{'property': 'primaryName', 'type': 'STRING'}, {'property': 'names', 'type': 'STRING'}, {'property': 'names', 'type': 'LIST'}], 'labels': 'EMPLOYMENT'}]\\n        Relationship properties are the following:\\n        [{'type': 'NEW_COMPANY', 'properties': []}, {'type': 'PARTICIPANT', 'properties': []}, {'type': 'transfer_tron', 'properties': []}, {'type': 'OFFEROR', 'properties': []}, {'type': 'OFFEREE', 'properties': []}, {'type': 'EMPLOYEE', 'properties': []}, {'type': 'OFFERING_DATE', 'properties': []}, {'type': 'END_DATE', 'properties': []}, {'type': 'START_DATE', 'properties': []}, {'type': 'EMPLOYEE_TITLE', 'properties': []}, {'type': 'PLACE', 'properties': []}, {'type': 'EVENT', 'properties': []}, {'type': 'DATE', 'properties': []}, {'type': 'contains', 'properties': []}, {'type': 'EMPLOYER', 'properties': []}, {'type': 'route', 'properties': [{'property': 'dist', 'type': 'INTEGER'}]}, {'type': 'AMOUNT', 'properties': []}, {'type': 'SHARE_QUANTITY', 'properties': []}, {'type': 'INVESTOR', 'properties': []}, {'type': 'INVESTEE', 'properties': []}]\\n        The relationships are the following:\\n        ['(:`CORPORATE_MERGER`)-[:`NEW_COMPANY`]->(:`ORGANIZATION`)', '(:`CORPORATE_MERGER`)-[:`PARTICIPANT`]->(:`ORGANIZATION`)', '(:`CORPORATE_MERGER`)-[:`PARTICIPANT`]->(:`STOCK_CODE`)', '(:`tron`)-[:`transfer_tron`]->(:`tron`)', '(:`SHELF_OFFERING`)-[:`OFFEROR`]->(:`ORGANIZATION`)', '(:`SHELF_OFFERING`)-[:`OFFEREE`]->(:`ORGANIZATION`)', '(:`EMPLOYMENT`)-[:`EMPLOYEE`]->(:`PERSON`)', '(:`EMPLOYMENT`)-[:`EMPLOYEE`]->(:`ORGANIZATION`)', '(:`EMPLOYMENT`)-[:`EMPLOYEE`]->(:`PERSON_TITLE`)', '(:`SHELF_OFFERING`)-[:`OFFERING_DATE`]->(:`DATE`)', '(:`EMPLOYMENT`)-[:`END_DATE`]->(:`DATE`)', '(:`EMPLOYMENT`)-[:`START_DATE`]->(:`DATE`)', '(:`EMPLOYMENT`)-[:`EMPLOYEE_TITLE`]->(:`PERSON_TITLE`)', '(:`EMPLOYMENT`)-[:`EMPLOYEE_TITLE`]->(:`PERSON`)', '(:`INVESTMENT_GENERAL`)-[:`PLACE`]->(:`LOCATION`)', '(:`INVESTMENT_GENERAL`)-[:`PLACE`]->(:`ORGANIZATION`)', '(:`INVESTMENT_GENERAL`)-[:`PLACE`]->(:`FACILITY`)', '(:`CORPORATE_ACQUISITION`)-[:`PLACE`]->(:`LOCATION`)', '(:`DOCUMENT`)-[:`EVENT`]->(:`CORPORATE_MERGER`)', '(:`DOCUMENT`)-[:`EVENT`]->(:`CORPORATE_ACQUISITION`)', '(:`DOCUMENT`)-[:`EVENT`]->(:`EMPLOYMENT`)', '(:`DOCUMENT`)-[:`EVENT`]->(:`INVESTMENT_GENERAL`)', '(:`DOCUMENT`)-[:`EVENT`]->(:`SHELF_OFFERING`)', '(:`CORPORATE_MERGER`)-[:`DATE`]->(:`DATE`)', '(:`CORPORATE_ACQUISITION`)-[:`DATE`]->(:`DATE`)', '(:`INVESTMENT_GENERAL`)-[:`DATE`]->(:`DATE`)', '(:`EMPLOYMENT`)-[:`DATE`]->(:`DATE`)', '(:`INVESTMENT_GENERAL`)-[:`DATE`]->(:`QUANTITY`)', '(:`continent`)-[:`contains`]->(:`airport`)', '(:`country`)-[:`contains`]->(:`airport`)', '(:`EMPLOYMENT`)-[:`EMPLOYER`]->(:`ORGANIZATION`)', '(:`EMPLOYMENT`)-[:`EMPLOYER`]->(:`FACILITY`)', '(:`EMPLOYMENT`)-[:`EMPLOYER`]->(:`PERSON`)', '(:`airport`)-[:`route`]->(:`airport`)', '(:`CORPORATE_ACQUISITION`)-[:`AMOUNT`]->(:`MONETARY_VALUE`)', '(:`INVESTMENT_GENERAL`)-[:`AMOUNT`]->(:`MONETARY_VALUE`)', '(:`SHELF_OFFERING`)-[:`SHARE_QUANTITY`]->(:`QUANTITY`)', '(:`CORPORATE_ACQUISITION`)-[:`INVESTOR`]->(:`ORGANIZATION`)', '(:`INVESTMENT_GENERAL`)-[:`INVESTOR`]->(:`ORGANIZATION`)', '(:`SHELF_OFFERING`)-[:`INVESTOR`]->(:`ORGANIZATION`)', '(:`INVESTMENT_GENERAL`)-[:`INVESTOR`]->(:`STOCK_CODE`)', '(:`CORPORATE_ACQUISITION`)-[:`INVESTOR`]->(:`PERSON`)', '(:`INVESTMENT_GENERAL`)-[:`INVESTOR`]->(:`PERSON`)', '(:`INVESTMENT_GENERAL`)-[:`INVESTOR`]->(:`FACILITY`)', '(:`INVESTMENT_GENERAL`)-[:`INVESTEE`]->(:`ORGANIZATION`)', '(:`CORPORATE_ACQUISITION`)-[:`INVESTEE`]->(:`ORGANIZATION`)', '(:`CORPORATE_ACQUISITION`)-[:`INVESTEE`]->(:`STOCK_CODE`)', '(:`INVESTMENT_GENERAL`)-[:`INVESTEE`]->(:`PERSON`)', '(:`INVESTMENT_GENERAL`)-[:`INVESTEE`]->(:`LOCATION`)', '(:`INVESTMENT_GENERAL`)-[:`INVESTEE`]->(:`PERSON_TITLE`)', '(:`INVESTMENT_GENERAL`)-[:`INVESTEE`]->(:`STOCK_CODE`)', '(:`INVESTMENT_GENERAL`)-[:`INVESTEE`]->(:`FACILITY`)', '(:`CORPORATE_ACQUISITION`)-[:`INVESTEE`]->(:`PERSON`)']\\n        \""
      ]
     },
     "execution_count": 6,
     "metadata": {},
     "output_type": "execute_result"
    }
   ],
   "source": [
    "graph.schema"
   ]
  },
  {
   "cell_type": "code",
   "execution_count": 9,
   "id": "ee0b9c6f-b78a-45f6-9864-f7eb3fda380c",
   "metadata": {
    "tags": []
   },
   "outputs": [
    {
     "name": "stdout",
     "output_type": "stream",
     "text": [
      "Create new client\n",
      "  Using region: us-west-2\n",
      "  Using profile: default\n",
      "boto3 Bedrock client successfully created!\n",
      "bedrock-runtime(https://bedrock-runtime.us-west-2.amazonaws.com)\n"
     ]
    }
   ],
   "source": [
    "import os\n",
    "import json\n",
    "from typing import Optional\n",
    "from langchain.llms.bedrock import Bedrock\n",
    "\n",
    "# External Dependencies:\n",
    "import boto3\n",
    "from botocore.config import Config\n",
    "\n",
    "def get_bedrock_client(\n",
    "    assumed_role: Optional[str] = None,\n",
    "    region: Optional[str] = None,\n",
    "    runtime: Optional[bool] = True,\n",
    "):\n",
    "  \n",
    "    if region is None:\n",
    "        target_region = os.environ.get(\"AWS_REGION\", os.environ.get(\"AWS_DEFAULT_REGION\"))\n",
    "    else:\n",
    "        target_region = region\n",
    "\n",
    "    print(f\"Create new client\\n  Using region: {target_region}\")\n",
    "    session_kwargs = {\"region_name\": target_region}\n",
    "    client_kwargs = {**session_kwargs}\n",
    "\n",
    "    profile_name = os.environ.get(\"AWS_PROFILE\")\n",
    "    if profile_name:\n",
    "        print(f\"  Using profile: {profile_name}\")\n",
    "        session_kwargs[\"profile_name\"] = profile_name\n",
    "\n",
    "    retry_config = Config(\n",
    "        region_name=target_region,\n",
    "        retries={\n",
    "            \"max_attempts\": 10,\n",
    "            \"mode\": \"standard\",\n",
    "        },\n",
    "    )\n",
    "    session = boto3.Session(**session_kwargs)\n",
    "\n",
    "    if assumed_role:\n",
    "        print(f\"  Using role: {assumed_role}\", end='')\n",
    "        sts = session.client(\"sts\")\n",
    "        response = sts.assume_role(\n",
    "            RoleArn=str(assumed_role),\n",
    "            RoleSessionName=\"langchain-llm-1\"\n",
    "        )\n",
    "        print(\" ... successful!\")\n",
    "        client_kwargs[\"aws_access_key_id\"] = response[\"Credentials\"][\"AccessKeyId\"]\n",
    "        client_kwargs[\"aws_secret_access_key\"] = response[\"Credentials\"][\"SecretAccessKey\"]\n",
    "        client_kwargs[\"aws_session_token\"] = response[\"Credentials\"][\"SessionToken\"]\n",
    "        \n",
    "\n",
    "    if runtime:\n",
    "        service_name='bedrock-runtime'\n",
    "    else:\n",
    "        service_name='bedrock'\n",
    "\n",
    "    client_kwargs[\"aws_access_key_id\"] = os.environ.get(\"AWS_ACCESS_KEY_ID\",\"\")\n",
    "    client_kwargs[\"aws_secret_access_key\"] = os.environ.get(\"AWS_SECRET_ACCESS_KEY\",\"\")\n",
    "    \n",
    "    bedrock_client = session.client(\n",
    "        service_name=service_name,\n",
    "        config=retry_config,\n",
    "        **client_kwargs\n",
    "    )\n",
    "\n",
    "    print(\"boto3 Bedrock client successfully created!\")\n",
    "    print(bedrock_client._endpoint)\n",
    "    return bedrock_client\n",
    "\n",
    "\n",
    "## for aksk bedrock\n",
    "def get_bedrock_aksk(secret_name='chatbot_bedrock', region_name = \"us-west-2\"):\n",
    "    # Create a Secrets Manager client\n",
    "    session = boto3.session.Session()\n",
    "    client = session.client(\n",
    "        service_name='secretsmanager',\n",
    "        region_name=region_name\n",
    "    )\n",
    "\n",
    "    try:\n",
    "        get_secret_value_response = client.get_secret_value(\n",
    "            SecretId=secret_name\n",
    "        )\n",
    "    except ClientError as e:\n",
    "        # For a list of exceptions thrown, see\n",
    "        # https://docs.aws.amazon.com/secretsmanager/latest/apireference/API_GetSecretValue.html\n",
    "        raise e\n",
    "\n",
    "    # Decrypts secret using the associated KMS key.\n",
    "    secret = json.loads(get_secret_value_response['SecretString'])\n",
    "    return secret['BEDROCK_ACCESS_KEY'],secret['BEDROCK_SECRET_KEY']\n",
    "\n",
    "ACCESS_KEY, SECRET_KEY=get_bedrock_aksk()\n",
    "\n",
    "#role based initial client#######\n",
    "os.environ[\"AWS_DEFAULT_REGION\"] = \"us-west-2\"  # E.g. \"us-east-1\"\n",
    "os.environ[\"AWS_PROFILE\"] = \"default\"\n",
    "#os.environ[\"BEDROCK_ASSUME_ROLE\"] = \"arn:aws:iam::687912291502:role/service-role/AmazonSageMaker-ExecutionRole-20211013T113123\"  # E.g. \"arn:aws:...\"\n",
    "os.environ[\"AWS_ACCESS_KEY_ID\"]=ACCESS_KEY\n",
    "os.environ[\"AWS_SECRET_ACCESS_KEY\"]=SECRET_KEY\n",
    "\n",
    "#新boto3 sdk只能session方式初始化bedrock\n",
    "boto3_bedrock = get_bedrock_client(\n",
    "    #assumed_role=os.environ.get(\"BEDROCK_ASSUME_ROLE\", None),\n",
    "    region=os.environ.get(\"AWS_DEFAULT_REGION\", None)\n",
    ")\n",
    "\n",
    "parameters_bedrock = {\n",
    "    \"max_tokens_to_sample\": 2048,\n",
    "    #\"temperature\": 0.5,\n",
    "    \"temperature\": 0,\n",
    "    #\"top_k\": 250,\n",
    "    #\"top_p\": 1,\n",
    "    \"stop_sequences\": [\"\\n\\nHuman\"],\n",
    "}\n",
    "\n",
    "bedrock_llm = Bedrock(model_id=\"anthropic.claude-v2:1\", client=boto3_bedrock, model_kwargs=parameters_bedrock)\n"
   ]
  },
  {
   "cell_type": "code",
   "execution_count": 11,
   "id": "85ddd645-6932-4d94-977f-220eec3a16e5",
   "metadata": {
    "tags": []
   },
   "outputs": [
    {
     "data": {
      "text/plain": [
       "\" I don't have a specific description of LLM. LLM stands for Master of Laws, an advanced law degree that one can pursue after obtaining a JD (Juris Doctor) degree. Since LLM programs come in many different focus areas from various law schools, I would need more context about which particular LLM you are asking about to provide a meaningful description. In general though, LLMs allow lawyers to gain specialized knowledge in a particular area of law.\""
      ]
     },
     "execution_count": 11,
     "metadata": {},
     "output_type": "execute_result"
    }
   ],
   "source": [
    "###test the bedrock langchain integration###\n",
    "bedrock_llm.predict(\"Human:how do you describe LLM?\\n\"+\n",
    "           \"Assistant:\")"
   ]
  },
  {
   "cell_type": "code",
   "execution_count": 12,
   "id": "55137f72-b2b8-471f-9720-c8800e729a63",
   "metadata": {
    "tags": []
   },
   "outputs": [],
   "source": [
    "from langchain.chains import NeptuneOpenCypherQAChain\n",
    "from langchain.chat_models import ChatOpenAI\n",
    "\n",
    "#llm = ChatOpenAI(temperature=0, model=\"gpt-4\")\n",
    "chain = NeptuneOpenCypherQAChain.from_llm(llm=bedrock_llm, graph=graph, verbose=True, top_K=10,\n",
    "                                         return_intermediate_steps=True, return_direct=False)\n",
    "#chain = NeptuneOpenCypherQAChain.from_llm(llm=llm, graph=graph)"
   ]
  },
  {
   "cell_type": "markdown",
   "id": "576ade7f-6391-439e-9699-f938579c3906",
   "metadata": {},
   "source": [
    "PE words:\n",
    "Generate the query in openCypher format and follow these rules:\n",
    "Use only the provided relationship types and properties in the schema.\n",
    "Do not include any explanations or apologies in your responses.\n"
   ]
  },
  {
   "cell_type": "code",
   "execution_count": 13,
   "id": "9fd8cd41-df56-4e18-adbc-40c51585dfee",
   "metadata": {},
   "outputs": [
    {
     "name": "stdout",
     "output_type": "stream",
     "text": [
      "\n",
      "\n",
      "\u001b[1m> Entering new NeptuneOpenCypherQAChain chain...\u001b[0m\n",
      "Generated Cypher:\n",
      "\u001b[32;1m\u001b[1;3mMATCH (lh:airport {primaryName:\"London Heathrow\"})-[:route*..15]-(p:airport {primaryName:\"Perth\"}) \n",
      "RETURN lh.primaryName AS `From`, p.primaryName AS `To`, REDUCE(dist = 0, r in RELATIONSHIPS(lh)-[]->() | dist + r.dist) AS `Distance`\n",
      "\u001b[0m\n"
     ]
    },
    {
     "ename": "NeptuneQueryException",
     "evalue": "{'message': 'An error occurred while executing the query.', 'details': \"An error occurred (MalformedQueryException) when calling the ExecuteOpenCypherQuery operation: Invalid input '>' (line 2, column 100 (offset: 199))\"}",
     "output_type": "error",
     "traceback": [
      "\u001b[0;31m---------------------------------------------------------------------------\u001b[0m",
      "\u001b[0;31mMalformedQueryException\u001b[0m                   Traceback (most recent call last)",
      "File \u001b[0;32m~/anaconda3/envs/JupyterSystemEnv/lib/python3.10/site-packages/langchain/graphs/neptune_graph.py:136\u001b[0m, in \u001b[0;36mNeptuneGraph.query\u001b[0;34m(self, query, params)\u001b[0m\n\u001b[1;32m    135\u001b[0m \u001b[38;5;28;01mtry\u001b[39;00m:\n\u001b[0;32m--> 136\u001b[0m     \u001b[38;5;28;01mreturn\u001b[39;00m \u001b[38;5;28;43mself\u001b[39;49m\u001b[38;5;241;43m.\u001b[39;49m\u001b[43mclient\u001b[49m\u001b[38;5;241;43m.\u001b[39;49m\u001b[43mexecute_open_cypher_query\u001b[49m\u001b[43m(\u001b[49m\u001b[43mopenCypherQuery\u001b[49m\u001b[38;5;241;43m=\u001b[39;49m\u001b[43mquery\u001b[49m\u001b[43m)\u001b[49m\n\u001b[1;32m    137\u001b[0m \u001b[38;5;28;01mexcept\u001b[39;00m \u001b[38;5;167;01mException\u001b[39;00m \u001b[38;5;28;01mas\u001b[39;00m e:\n",
      "File \u001b[0;32m~/anaconda3/envs/JupyterSystemEnv/lib/python3.10/site-packages/botocore/client.py:553\u001b[0m, in \u001b[0;36mClientCreator._create_api_method.<locals>._api_call\u001b[0;34m(self, *args, **kwargs)\u001b[0m\n\u001b[1;32m    552\u001b[0m \u001b[38;5;66;03m# The \"self\" in this scope is referring to the BaseClient.\u001b[39;00m\n\u001b[0;32m--> 553\u001b[0m \u001b[38;5;28;01mreturn\u001b[39;00m \u001b[38;5;28;43mself\u001b[39;49m\u001b[38;5;241;43m.\u001b[39;49m\u001b[43m_make_api_call\u001b[49m\u001b[43m(\u001b[49m\u001b[43moperation_name\u001b[49m\u001b[43m,\u001b[49m\u001b[43m \u001b[49m\u001b[43mkwargs\u001b[49m\u001b[43m)\u001b[49m\n",
      "File \u001b[0;32m~/anaconda3/envs/JupyterSystemEnv/lib/python3.10/site-packages/botocore/client.py:1009\u001b[0m, in \u001b[0;36mBaseClient._make_api_call\u001b[0;34m(self, operation_name, api_params)\u001b[0m\n\u001b[1;32m   1008\u001b[0m     error_class \u001b[38;5;241m=\u001b[39m \u001b[38;5;28mself\u001b[39m\u001b[38;5;241m.\u001b[39mexceptions\u001b[38;5;241m.\u001b[39mfrom_code(error_code)\n\u001b[0;32m-> 1009\u001b[0m     \u001b[38;5;28;01mraise\u001b[39;00m error_class(parsed_response, operation_name)\n\u001b[1;32m   1010\u001b[0m \u001b[38;5;28;01melse\u001b[39;00m:\n",
      "\u001b[0;31mMalformedQueryException\u001b[0m: An error occurred (MalformedQueryException) when calling the ExecuteOpenCypherQuery operation: Invalid input '>' (line 2, column 100 (offset: 199))",
      "\nDuring handling of the above exception, another exception occurred:\n",
      "\u001b[0;31mNeptuneQueryException\u001b[0m                     Traceback (most recent call last)",
      "Cell \u001b[0;32mIn[13], line 1\u001b[0m\n\u001b[0;32m----> 1\u001b[0m \u001b[43mchain\u001b[49m\u001b[38;5;241;43m.\u001b[39;49m\u001b[43mrun\u001b[49m\u001b[43m(\u001b[49m\u001b[38;5;124;43m'''\u001b[39;49m\u001b[38;5;124;43mWhat is the dist from London Heathrow to Perth nonstop?\u001b[39;49m\u001b[38;5;124;43m'''\u001b[39;49m\u001b[43m)\u001b[49m\n",
      "File \u001b[0;32m~/anaconda3/envs/JupyterSystemEnv/lib/python3.10/site-packages/langchain/chains/base.py:507\u001b[0m, in \u001b[0;36mChain.run\u001b[0;34m(self, callbacks, tags, metadata, *args, **kwargs)\u001b[0m\n\u001b[1;32m    505\u001b[0m     \u001b[38;5;28;01mif\u001b[39;00m \u001b[38;5;28mlen\u001b[39m(args) \u001b[38;5;241m!=\u001b[39m \u001b[38;5;241m1\u001b[39m:\n\u001b[1;32m    506\u001b[0m         \u001b[38;5;28;01mraise\u001b[39;00m \u001b[38;5;167;01mValueError\u001b[39;00m(\u001b[38;5;124m\"\u001b[39m\u001b[38;5;124m`run` supports only one positional argument.\u001b[39m\u001b[38;5;124m\"\u001b[39m)\n\u001b[0;32m--> 507\u001b[0m     \u001b[38;5;28;01mreturn\u001b[39;00m \u001b[38;5;28;43mself\u001b[39;49m\u001b[43m(\u001b[49m\u001b[43margs\u001b[49m\u001b[43m[\u001b[49m\u001b[38;5;241;43m0\u001b[39;49m\u001b[43m]\u001b[49m\u001b[43m,\u001b[49m\u001b[43m \u001b[49m\u001b[43mcallbacks\u001b[49m\u001b[38;5;241;43m=\u001b[39;49m\u001b[43mcallbacks\u001b[49m\u001b[43m,\u001b[49m\u001b[43m \u001b[49m\u001b[43mtags\u001b[49m\u001b[38;5;241;43m=\u001b[39;49m\u001b[43mtags\u001b[49m\u001b[43m,\u001b[49m\u001b[43m \u001b[49m\u001b[43mmetadata\u001b[49m\u001b[38;5;241;43m=\u001b[39;49m\u001b[43mmetadata\u001b[49m\u001b[43m)\u001b[49m[\n\u001b[1;32m    508\u001b[0m         _output_key\n\u001b[1;32m    509\u001b[0m     ]\n\u001b[1;32m    511\u001b[0m \u001b[38;5;28;01mif\u001b[39;00m kwargs \u001b[38;5;129;01mand\u001b[39;00m \u001b[38;5;129;01mnot\u001b[39;00m args:\n\u001b[1;32m    512\u001b[0m     \u001b[38;5;28;01mreturn\u001b[39;00m \u001b[38;5;28mself\u001b[39m(kwargs, callbacks\u001b[38;5;241m=\u001b[39mcallbacks, tags\u001b[38;5;241m=\u001b[39mtags, metadata\u001b[38;5;241m=\u001b[39mmetadata)[\n\u001b[1;32m    513\u001b[0m         _output_key\n\u001b[1;32m    514\u001b[0m     ]\n",
      "File \u001b[0;32m~/anaconda3/envs/JupyterSystemEnv/lib/python3.10/site-packages/langchain/chains/base.py:312\u001b[0m, in \u001b[0;36mChain.__call__\u001b[0;34m(self, inputs, return_only_outputs, callbacks, tags, metadata, run_name, include_run_info)\u001b[0m\n\u001b[1;32m    310\u001b[0m \u001b[38;5;28;01mexcept\u001b[39;00m \u001b[38;5;167;01mBaseException\u001b[39;00m \u001b[38;5;28;01mas\u001b[39;00m e:\n\u001b[1;32m    311\u001b[0m     run_manager\u001b[38;5;241m.\u001b[39mon_chain_error(e)\n\u001b[0;32m--> 312\u001b[0m     \u001b[38;5;28;01mraise\u001b[39;00m e\n\u001b[1;32m    313\u001b[0m run_manager\u001b[38;5;241m.\u001b[39mon_chain_end(outputs)\n\u001b[1;32m    314\u001b[0m final_outputs: Dict[\u001b[38;5;28mstr\u001b[39m, Any] \u001b[38;5;241m=\u001b[39m \u001b[38;5;28mself\u001b[39m\u001b[38;5;241m.\u001b[39mprep_outputs(\n\u001b[1;32m    315\u001b[0m     inputs, outputs, return_only_outputs\n\u001b[1;32m    316\u001b[0m )\n",
      "File \u001b[0;32m~/anaconda3/envs/JupyterSystemEnv/lib/python3.10/site-packages/langchain/chains/base.py:306\u001b[0m, in \u001b[0;36mChain.__call__\u001b[0;34m(self, inputs, return_only_outputs, callbacks, tags, metadata, run_name, include_run_info)\u001b[0m\n\u001b[1;32m    299\u001b[0m run_manager \u001b[38;5;241m=\u001b[39m callback_manager\u001b[38;5;241m.\u001b[39mon_chain_start(\n\u001b[1;32m    300\u001b[0m     dumpd(\u001b[38;5;28mself\u001b[39m),\n\u001b[1;32m    301\u001b[0m     inputs,\n\u001b[1;32m    302\u001b[0m     name\u001b[38;5;241m=\u001b[39mrun_name,\n\u001b[1;32m    303\u001b[0m )\n\u001b[1;32m    304\u001b[0m \u001b[38;5;28;01mtry\u001b[39;00m:\n\u001b[1;32m    305\u001b[0m     outputs \u001b[38;5;241m=\u001b[39m (\n\u001b[0;32m--> 306\u001b[0m         \u001b[38;5;28;43mself\u001b[39;49m\u001b[38;5;241;43m.\u001b[39;49m\u001b[43m_call\u001b[49m\u001b[43m(\u001b[49m\u001b[43minputs\u001b[49m\u001b[43m,\u001b[49m\u001b[43m \u001b[49m\u001b[43mrun_manager\u001b[49m\u001b[38;5;241;43m=\u001b[39;49m\u001b[43mrun_manager\u001b[49m\u001b[43m)\u001b[49m\n\u001b[1;32m    307\u001b[0m         \u001b[38;5;28;01mif\u001b[39;00m new_arg_supported\n\u001b[1;32m    308\u001b[0m         \u001b[38;5;28;01melse\u001b[39;00m \u001b[38;5;28mself\u001b[39m\u001b[38;5;241m.\u001b[39m_call(inputs)\n\u001b[1;32m    309\u001b[0m     )\n\u001b[1;32m    310\u001b[0m \u001b[38;5;28;01mexcept\u001b[39;00m \u001b[38;5;167;01mBaseException\u001b[39;00m \u001b[38;5;28;01mas\u001b[39;00m e:\n\u001b[1;32m    311\u001b[0m     run_manager\u001b[38;5;241m.\u001b[39mon_chain_error(e)\n",
      "File \u001b[0;32m~/anaconda3/envs/JupyterSystemEnv/lib/python3.10/site-packages/langchain/chains/graph_qa/neptune_cypher.py:195\u001b[0m, in \u001b[0;36mNeptuneOpenCypherQAChain._call\u001b[0;34m(self, inputs, run_manager)\u001b[0m\n\u001b[1;32m    189\u001b[0m _run_manager\u001b[38;5;241m.\u001b[39mon_text(\n\u001b[1;32m    190\u001b[0m     generated_cypher, color\u001b[38;5;241m=\u001b[39m\u001b[38;5;124m\"\u001b[39m\u001b[38;5;124mgreen\u001b[39m\u001b[38;5;124m\"\u001b[39m, end\u001b[38;5;241m=\u001b[39m\u001b[38;5;124m\"\u001b[39m\u001b[38;5;130;01m\\n\u001b[39;00m\u001b[38;5;124m\"\u001b[39m, verbose\u001b[38;5;241m=\u001b[39m\u001b[38;5;28mself\u001b[39m\u001b[38;5;241m.\u001b[39mverbose\n\u001b[1;32m    191\u001b[0m )\n\u001b[1;32m    193\u001b[0m intermediate_steps\u001b[38;5;241m.\u001b[39mappend({\u001b[38;5;124m\"\u001b[39m\u001b[38;5;124mquery\u001b[39m\u001b[38;5;124m\"\u001b[39m: generated_cypher})\n\u001b[0;32m--> 195\u001b[0m context \u001b[38;5;241m=\u001b[39m \u001b[38;5;28;43mself\u001b[39;49m\u001b[38;5;241;43m.\u001b[39;49m\u001b[43mgraph\u001b[49m\u001b[38;5;241;43m.\u001b[39;49m\u001b[43mquery\u001b[49m\u001b[43m(\u001b[49m\u001b[43mgenerated_cypher\u001b[49m\u001b[43m)\u001b[49m\n\u001b[1;32m    197\u001b[0m \u001b[38;5;28;01mif\u001b[39;00m \u001b[38;5;28mself\u001b[39m\u001b[38;5;241m.\u001b[39mreturn_direct:\n\u001b[1;32m    198\u001b[0m     final_result \u001b[38;5;241m=\u001b[39m context\n",
      "File \u001b[0;32m~/anaconda3/envs/JupyterSystemEnv/lib/python3.10/site-packages/langchain/graphs/neptune_graph.py:138\u001b[0m, in \u001b[0;36mNeptuneGraph.query\u001b[0;34m(self, query, params)\u001b[0m\n\u001b[1;32m    136\u001b[0m     \u001b[38;5;28;01mreturn\u001b[39;00m \u001b[38;5;28mself\u001b[39m\u001b[38;5;241m.\u001b[39mclient\u001b[38;5;241m.\u001b[39mexecute_open_cypher_query(openCypherQuery\u001b[38;5;241m=\u001b[39mquery)\n\u001b[1;32m    137\u001b[0m \u001b[38;5;28;01mexcept\u001b[39;00m \u001b[38;5;167;01mException\u001b[39;00m \u001b[38;5;28;01mas\u001b[39;00m e:\n\u001b[0;32m--> 138\u001b[0m     \u001b[38;5;28;01mraise\u001b[39;00m NeptuneQueryException(\n\u001b[1;32m    139\u001b[0m         {\n\u001b[1;32m    140\u001b[0m             \u001b[38;5;124m\"\u001b[39m\u001b[38;5;124mmessage\u001b[39m\u001b[38;5;124m\"\u001b[39m: \u001b[38;5;124m\"\u001b[39m\u001b[38;5;124mAn error occurred while executing the query.\u001b[39m\u001b[38;5;124m\"\u001b[39m,\n\u001b[1;32m    141\u001b[0m             \u001b[38;5;124m\"\u001b[39m\u001b[38;5;124mdetails\u001b[39m\u001b[38;5;124m\"\u001b[39m: \u001b[38;5;28mstr\u001b[39m(e),\n\u001b[1;32m    142\u001b[0m         }\n\u001b[1;32m    143\u001b[0m     )\n",
      "\u001b[0;31mNeptuneQueryException\u001b[0m: {'message': 'An error occurred while executing the query.', 'details': \"An error occurred (MalformedQueryException) when calling the ExecuteOpenCypherQuery operation: Invalid input '>' (line 2, column 100 (offset: 199))\"}"
     ]
    }
   ],
   "source": [
    "chain.run('''What is the dist from London Heathrow to Perth nonstop?''')"
   ]
  },
  {
   "cell_type": "code",
   "execution_count": 14,
   "id": "c2ca8769-c531-4a45-ac59-8461aa544560",
   "metadata": {},
   "outputs": [
    {
     "name": "stdout",
     "output_type": "stream",
     "text": [
      "\n",
      "\n",
      "\u001b[1m> Entering new NeptuneOpenCypherQAChain chain...\u001b[0m\n",
      "Generated Cypher:\n",
      "\u001b[32;1m\u001b[1;3mMATCH p=shortestPath((austin:airport {primaryName:\"Austin\"})-[:route*]->(sydney:airport {primaryName:\"Sydney\"}))\n",
      "WHERE NONE (x in RELATIONSHIPS(p) WHERE x.dist > 0)\n",
      "RETURN EXISTS(p)\n",
      "\u001b[0m\n"
     ]
    },
    {
     "ename": "NeptuneQueryException",
     "evalue": "{'message': 'An error occurred while executing the query.', 'details': 'An error occurred (MalformedQueryException) when calling the ExecuteOpenCypherQuery operation: Argument to EXISTS(...) is not a property or pattern (line 3, column 15 (offset: 179))'}",
     "output_type": "error",
     "traceback": [
      "\u001b[0;31m---------------------------------------------------------------------------\u001b[0m",
      "\u001b[0;31mMalformedQueryException\u001b[0m                   Traceback (most recent call last)",
      "File \u001b[0;32m~/anaconda3/envs/JupyterSystemEnv/lib/python3.10/site-packages/langchain/graphs/neptune_graph.py:136\u001b[0m, in \u001b[0;36mNeptuneGraph.query\u001b[0;34m(self, query, params)\u001b[0m\n\u001b[1;32m    135\u001b[0m \u001b[38;5;28;01mtry\u001b[39;00m:\n\u001b[0;32m--> 136\u001b[0m     \u001b[38;5;28;01mreturn\u001b[39;00m \u001b[38;5;28;43mself\u001b[39;49m\u001b[38;5;241;43m.\u001b[39;49m\u001b[43mclient\u001b[49m\u001b[38;5;241;43m.\u001b[39;49m\u001b[43mexecute_open_cypher_query\u001b[49m\u001b[43m(\u001b[49m\u001b[43mopenCypherQuery\u001b[49m\u001b[38;5;241;43m=\u001b[39;49m\u001b[43mquery\u001b[49m\u001b[43m)\u001b[49m\n\u001b[1;32m    137\u001b[0m \u001b[38;5;28;01mexcept\u001b[39;00m \u001b[38;5;167;01mException\u001b[39;00m \u001b[38;5;28;01mas\u001b[39;00m e:\n",
      "File \u001b[0;32m~/anaconda3/envs/JupyterSystemEnv/lib/python3.10/site-packages/botocore/client.py:553\u001b[0m, in \u001b[0;36mClientCreator._create_api_method.<locals>._api_call\u001b[0;34m(self, *args, **kwargs)\u001b[0m\n\u001b[1;32m    552\u001b[0m \u001b[38;5;66;03m# The \"self\" in this scope is referring to the BaseClient.\u001b[39;00m\n\u001b[0;32m--> 553\u001b[0m \u001b[38;5;28;01mreturn\u001b[39;00m \u001b[38;5;28;43mself\u001b[39;49m\u001b[38;5;241;43m.\u001b[39;49m\u001b[43m_make_api_call\u001b[49m\u001b[43m(\u001b[49m\u001b[43moperation_name\u001b[49m\u001b[43m,\u001b[49m\u001b[43m \u001b[49m\u001b[43mkwargs\u001b[49m\u001b[43m)\u001b[49m\n",
      "File \u001b[0;32m~/anaconda3/envs/JupyterSystemEnv/lib/python3.10/site-packages/botocore/client.py:1009\u001b[0m, in \u001b[0;36mBaseClient._make_api_call\u001b[0;34m(self, operation_name, api_params)\u001b[0m\n\u001b[1;32m   1008\u001b[0m     error_class \u001b[38;5;241m=\u001b[39m \u001b[38;5;28mself\u001b[39m\u001b[38;5;241m.\u001b[39mexceptions\u001b[38;5;241m.\u001b[39mfrom_code(error_code)\n\u001b[0;32m-> 1009\u001b[0m     \u001b[38;5;28;01mraise\u001b[39;00m error_class(parsed_response, operation_name)\n\u001b[1;32m   1010\u001b[0m \u001b[38;5;28;01melse\u001b[39;00m:\n",
      "\u001b[0;31mMalformedQueryException\u001b[0m: An error occurred (MalformedQueryException) when calling the ExecuteOpenCypherQuery operation: Argument to EXISTS(...) is not a property or pattern (line 3, column 15 (offset: 179))",
      "\nDuring handling of the above exception, another exception occurred:\n",
      "\u001b[0;31mNeptuneQueryException\u001b[0m                     Traceback (most recent call last)",
      "Cell \u001b[0;32mIn[14], line 1\u001b[0m\n\u001b[0;32m----> 1\u001b[0m \u001b[43mchain\u001b[49m\u001b[38;5;241;43m.\u001b[39;49m\u001b[43mrun\u001b[49m\u001b[43m(\u001b[49m\u001b[38;5;124;43m'''\u001b[39;49m\u001b[38;5;124;43mCan I fly from Austin to Sydney with no stops?\u001b[39;49m\u001b[38;5;124;43m'''\u001b[39;49m\u001b[43m)\u001b[49m\n",
      "File \u001b[0;32m~/anaconda3/envs/JupyterSystemEnv/lib/python3.10/site-packages/langchain/chains/base.py:507\u001b[0m, in \u001b[0;36mChain.run\u001b[0;34m(self, callbacks, tags, metadata, *args, **kwargs)\u001b[0m\n\u001b[1;32m    505\u001b[0m     \u001b[38;5;28;01mif\u001b[39;00m \u001b[38;5;28mlen\u001b[39m(args) \u001b[38;5;241m!=\u001b[39m \u001b[38;5;241m1\u001b[39m:\n\u001b[1;32m    506\u001b[0m         \u001b[38;5;28;01mraise\u001b[39;00m \u001b[38;5;167;01mValueError\u001b[39;00m(\u001b[38;5;124m\"\u001b[39m\u001b[38;5;124m`run` supports only one positional argument.\u001b[39m\u001b[38;5;124m\"\u001b[39m)\n\u001b[0;32m--> 507\u001b[0m     \u001b[38;5;28;01mreturn\u001b[39;00m \u001b[38;5;28;43mself\u001b[39;49m\u001b[43m(\u001b[49m\u001b[43margs\u001b[49m\u001b[43m[\u001b[49m\u001b[38;5;241;43m0\u001b[39;49m\u001b[43m]\u001b[49m\u001b[43m,\u001b[49m\u001b[43m \u001b[49m\u001b[43mcallbacks\u001b[49m\u001b[38;5;241;43m=\u001b[39;49m\u001b[43mcallbacks\u001b[49m\u001b[43m,\u001b[49m\u001b[43m \u001b[49m\u001b[43mtags\u001b[49m\u001b[38;5;241;43m=\u001b[39;49m\u001b[43mtags\u001b[49m\u001b[43m,\u001b[49m\u001b[43m \u001b[49m\u001b[43mmetadata\u001b[49m\u001b[38;5;241;43m=\u001b[39;49m\u001b[43mmetadata\u001b[49m\u001b[43m)\u001b[49m[\n\u001b[1;32m    508\u001b[0m         _output_key\n\u001b[1;32m    509\u001b[0m     ]\n\u001b[1;32m    511\u001b[0m \u001b[38;5;28;01mif\u001b[39;00m kwargs \u001b[38;5;129;01mand\u001b[39;00m \u001b[38;5;129;01mnot\u001b[39;00m args:\n\u001b[1;32m    512\u001b[0m     \u001b[38;5;28;01mreturn\u001b[39;00m \u001b[38;5;28mself\u001b[39m(kwargs, callbacks\u001b[38;5;241m=\u001b[39mcallbacks, tags\u001b[38;5;241m=\u001b[39mtags, metadata\u001b[38;5;241m=\u001b[39mmetadata)[\n\u001b[1;32m    513\u001b[0m         _output_key\n\u001b[1;32m    514\u001b[0m     ]\n",
      "File \u001b[0;32m~/anaconda3/envs/JupyterSystemEnv/lib/python3.10/site-packages/langchain/chains/base.py:312\u001b[0m, in \u001b[0;36mChain.__call__\u001b[0;34m(self, inputs, return_only_outputs, callbacks, tags, metadata, run_name, include_run_info)\u001b[0m\n\u001b[1;32m    310\u001b[0m \u001b[38;5;28;01mexcept\u001b[39;00m \u001b[38;5;167;01mBaseException\u001b[39;00m \u001b[38;5;28;01mas\u001b[39;00m e:\n\u001b[1;32m    311\u001b[0m     run_manager\u001b[38;5;241m.\u001b[39mon_chain_error(e)\n\u001b[0;32m--> 312\u001b[0m     \u001b[38;5;28;01mraise\u001b[39;00m e\n\u001b[1;32m    313\u001b[0m run_manager\u001b[38;5;241m.\u001b[39mon_chain_end(outputs)\n\u001b[1;32m    314\u001b[0m final_outputs: Dict[\u001b[38;5;28mstr\u001b[39m, Any] \u001b[38;5;241m=\u001b[39m \u001b[38;5;28mself\u001b[39m\u001b[38;5;241m.\u001b[39mprep_outputs(\n\u001b[1;32m    315\u001b[0m     inputs, outputs, return_only_outputs\n\u001b[1;32m    316\u001b[0m )\n",
      "File \u001b[0;32m~/anaconda3/envs/JupyterSystemEnv/lib/python3.10/site-packages/langchain/chains/base.py:306\u001b[0m, in \u001b[0;36mChain.__call__\u001b[0;34m(self, inputs, return_only_outputs, callbacks, tags, metadata, run_name, include_run_info)\u001b[0m\n\u001b[1;32m    299\u001b[0m run_manager \u001b[38;5;241m=\u001b[39m callback_manager\u001b[38;5;241m.\u001b[39mon_chain_start(\n\u001b[1;32m    300\u001b[0m     dumpd(\u001b[38;5;28mself\u001b[39m),\n\u001b[1;32m    301\u001b[0m     inputs,\n\u001b[1;32m    302\u001b[0m     name\u001b[38;5;241m=\u001b[39mrun_name,\n\u001b[1;32m    303\u001b[0m )\n\u001b[1;32m    304\u001b[0m \u001b[38;5;28;01mtry\u001b[39;00m:\n\u001b[1;32m    305\u001b[0m     outputs \u001b[38;5;241m=\u001b[39m (\n\u001b[0;32m--> 306\u001b[0m         \u001b[38;5;28;43mself\u001b[39;49m\u001b[38;5;241;43m.\u001b[39;49m\u001b[43m_call\u001b[49m\u001b[43m(\u001b[49m\u001b[43minputs\u001b[49m\u001b[43m,\u001b[49m\u001b[43m \u001b[49m\u001b[43mrun_manager\u001b[49m\u001b[38;5;241;43m=\u001b[39;49m\u001b[43mrun_manager\u001b[49m\u001b[43m)\u001b[49m\n\u001b[1;32m    307\u001b[0m         \u001b[38;5;28;01mif\u001b[39;00m new_arg_supported\n\u001b[1;32m    308\u001b[0m         \u001b[38;5;28;01melse\u001b[39;00m \u001b[38;5;28mself\u001b[39m\u001b[38;5;241m.\u001b[39m_call(inputs)\n\u001b[1;32m    309\u001b[0m     )\n\u001b[1;32m    310\u001b[0m \u001b[38;5;28;01mexcept\u001b[39;00m \u001b[38;5;167;01mBaseException\u001b[39;00m \u001b[38;5;28;01mas\u001b[39;00m e:\n\u001b[1;32m    311\u001b[0m     run_manager\u001b[38;5;241m.\u001b[39mon_chain_error(e)\n",
      "File \u001b[0;32m~/anaconda3/envs/JupyterSystemEnv/lib/python3.10/site-packages/langchain/chains/graph_qa/neptune_cypher.py:195\u001b[0m, in \u001b[0;36mNeptuneOpenCypherQAChain._call\u001b[0;34m(self, inputs, run_manager)\u001b[0m\n\u001b[1;32m    189\u001b[0m _run_manager\u001b[38;5;241m.\u001b[39mon_text(\n\u001b[1;32m    190\u001b[0m     generated_cypher, color\u001b[38;5;241m=\u001b[39m\u001b[38;5;124m\"\u001b[39m\u001b[38;5;124mgreen\u001b[39m\u001b[38;5;124m\"\u001b[39m, end\u001b[38;5;241m=\u001b[39m\u001b[38;5;124m\"\u001b[39m\u001b[38;5;130;01m\\n\u001b[39;00m\u001b[38;5;124m\"\u001b[39m, verbose\u001b[38;5;241m=\u001b[39m\u001b[38;5;28mself\u001b[39m\u001b[38;5;241m.\u001b[39mverbose\n\u001b[1;32m    191\u001b[0m )\n\u001b[1;32m    193\u001b[0m intermediate_steps\u001b[38;5;241m.\u001b[39mappend({\u001b[38;5;124m\"\u001b[39m\u001b[38;5;124mquery\u001b[39m\u001b[38;5;124m\"\u001b[39m: generated_cypher})\n\u001b[0;32m--> 195\u001b[0m context \u001b[38;5;241m=\u001b[39m \u001b[38;5;28;43mself\u001b[39;49m\u001b[38;5;241;43m.\u001b[39;49m\u001b[43mgraph\u001b[49m\u001b[38;5;241;43m.\u001b[39;49m\u001b[43mquery\u001b[49m\u001b[43m(\u001b[49m\u001b[43mgenerated_cypher\u001b[49m\u001b[43m)\u001b[49m\n\u001b[1;32m    197\u001b[0m \u001b[38;5;28;01mif\u001b[39;00m \u001b[38;5;28mself\u001b[39m\u001b[38;5;241m.\u001b[39mreturn_direct:\n\u001b[1;32m    198\u001b[0m     final_result \u001b[38;5;241m=\u001b[39m context\n",
      "File \u001b[0;32m~/anaconda3/envs/JupyterSystemEnv/lib/python3.10/site-packages/langchain/graphs/neptune_graph.py:138\u001b[0m, in \u001b[0;36mNeptuneGraph.query\u001b[0;34m(self, query, params)\u001b[0m\n\u001b[1;32m    136\u001b[0m     \u001b[38;5;28;01mreturn\u001b[39;00m \u001b[38;5;28mself\u001b[39m\u001b[38;5;241m.\u001b[39mclient\u001b[38;5;241m.\u001b[39mexecute_open_cypher_query(openCypherQuery\u001b[38;5;241m=\u001b[39mquery)\n\u001b[1;32m    137\u001b[0m \u001b[38;5;28;01mexcept\u001b[39;00m \u001b[38;5;167;01mException\u001b[39;00m \u001b[38;5;28;01mas\u001b[39;00m e:\n\u001b[0;32m--> 138\u001b[0m     \u001b[38;5;28;01mraise\u001b[39;00m NeptuneQueryException(\n\u001b[1;32m    139\u001b[0m         {\n\u001b[1;32m    140\u001b[0m             \u001b[38;5;124m\"\u001b[39m\u001b[38;5;124mmessage\u001b[39m\u001b[38;5;124m\"\u001b[39m: \u001b[38;5;124m\"\u001b[39m\u001b[38;5;124mAn error occurred while executing the query.\u001b[39m\u001b[38;5;124m\"\u001b[39m,\n\u001b[1;32m    141\u001b[0m             \u001b[38;5;124m\"\u001b[39m\u001b[38;5;124mdetails\u001b[39m\u001b[38;5;124m\"\u001b[39m: \u001b[38;5;28mstr\u001b[39m(e),\n\u001b[1;32m    142\u001b[0m         }\n\u001b[1;32m    143\u001b[0m     )\n",
      "\u001b[0;31mNeptuneQueryException\u001b[0m: {'message': 'An error occurred while executing the query.', 'details': 'An error occurred (MalformedQueryException) when calling the ExecuteOpenCypherQuery operation: Argument to EXISTS(...) is not a property or pattern (line 3, column 15 (offset: 179))'}"
     ]
    }
   ],
   "source": [
    "chain.run('''Can I fly from Austin to Sydney with no stops?''')"
   ]
  },
  {
   "cell_type": "code",
   "execution_count": 15,
   "id": "fdf53d3b-cc4b-4a7f-a406-d58a8a694d48",
   "metadata": {},
   "outputs": [
    {
     "name": "stdout",
     "output_type": "stream",
     "text": [
      "\n",
      "\n",
      "\u001b[1m> Entering new NeptuneOpenCypherQAChain chain...\u001b[0m\n",
      "Generated Cypher:\n",
      "\u001b[32;1m\u001b[1;3mMATCH (a:airport {primaryName:\"Austin\"})-[:route]->(b)\n",
      "RETURN count(b) AS numRoutes\n",
      "\u001b[0m\n",
      "Full Context:\n",
      "\u001b[32;1m\u001b[1;3m{'ResponseMetadata': {'HTTPStatusCode': 200, 'HTTPHeaders': {'transfer-encoding': 'chunked', 'content-type': 'application/json;charset=UTF-8'}, 'RetryAttempts': 0}, 'results': [{'numRoutes': 0}]}\u001b[0m\n",
      "\n",
      "\u001b[1m> Finished chain.\u001b[0m\n"
     ]
    },
    {
     "data": {
      "text/plain": [
       "\" Unfortunately, I do not have enough information to definitively state how many outgoing routes the Austin airport has. The information provided indicates there are 0 routes, but does not specify if this refers to outgoing routes from the Austin airport specifically. Without more context or details, I cannot reliably answer the question about the number of outgoing routes from the Austin airport. I apologize that I don't have sufficient information to provide a helpful answer. Please let me know if you can provide any additional details that might help me understand the context better.\""
      ]
     },
     "execution_count": 15,
     "metadata": {},
     "output_type": "execute_result"
    }
   ],
   "source": [
    "chain.run('''How many outgoing routes does the Austin (AUS) airport have?''')"
   ]
  },
  {
   "cell_type": "code",
   "execution_count": 16,
   "id": "b25868ef-b560-448c-a0a0-406f4542872b",
   "metadata": {},
   "outputs": [
    {
     "name": "stdout",
     "output_type": "stream",
     "text": [
      "\n",
      "\n",
      "\u001b[1m> Entering new NeptuneOpenCypherQAChain chain...\u001b[0m\n",
      "Generated Cypher:\n",
      "\u001b[32;1m\u001b[1;3m MATCH (a:airport)-[:route]->() \n",
      "WITH a, COUNT(*) AS routes\n",
      "RETURN a.code, routes\n",
      "ORDER BY routes DESC\n",
      "LIMIT 10\n",
      "\u001b[0m\n",
      "Full Context:\n",
      "\u001b[32;1m\u001b[1;3m{'ResponseMetadata': {'HTTPStatusCode': 200, 'HTTPHeaders': {'transfer-encoding': 'chunked', 'content-type': 'application/json;charset=UTF-8'}, 'RetryAttempts': 0}, 'results': [{'a.code': 'IST', 'routes': 307}, {'a.code': 'FRA', 'routes': 307}, {'a.code': 'CDG', 'routes': 293}, {'a.code': 'AMS', 'routes': 282}, {'a.code': 'MUC', 'routes': 270}, {'a.code': 'ORD', 'routes': 264}, {'a.code': 'DFW', 'routes': 251}, {'a.code': 'PEK', 'routes': 248}, {'a.code': 'DXB', 'routes': 247}, {'a.code': 'ATL', 'routes': 242}]}\u001b[0m\n",
      "\n",
      "\u001b[1m> Finished chain.\u001b[0m\n"
     ]
    },
    {
     "data": {
      "text/plain": [
       "' Based on the provided information, the top 10 airports sorted by the number of outgoing routes are:\\n\\nIST with 307 routes\\nFRA with 307 routes  \\nCDG with 293 routes\\nAMS with 282 routes\\nMUC with 270 routes\\nORD with 264 routes\\nDFW with 251 routes\\nPEK with 248 routes \\nDXB with 247 routes\\nATL with 242 routes'"
      ]
     },
     "execution_count": 16,
     "metadata": {},
     "output_type": "execute_result"
    }
   ],
   "source": [
    "chain.run('''Find the top 10 airports sorted by the number of outgoing routes?\n",
    "Return just the airport code and the number of routes''')"
   ]
  },
  {
   "cell_type": "code",
   "execution_count": null,
   "id": "7fd54042-a743-4cae-b4f4-4e19e1542d8f",
   "metadata": {},
   "outputs": [],
   "source": []
  }
 ],
 "metadata": {
  "kernelspec": {
   "display_name": "Python 3",
   "language": "python",
   "name": "python3"
  },
  "language_info": {
   "codemirror_mode": {
    "name": "ipython",
    "version": 3
   },
   "file_extension": ".py",
   "mimetype": "text/x-python",
   "name": "python",
   "nbconvert_exporter": "python",
   "pygments_lexer": "ipython3",
   "version": "3.10.8"
  }
 },
 "nbformat": 4,
 "nbformat_minor": 5
}
